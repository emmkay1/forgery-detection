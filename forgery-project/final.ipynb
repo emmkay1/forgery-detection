{
 "cells": [
  {
   "cell_type": "code",
   "execution_count": 5,
   "metadata": {},
   "outputs": [
    {
     "name": "stdout",
     "output_type": "stream",
     "text": [
      "Collecting matplotlib\n",
      "  Using cached matplotlib-3.4.1-cp37-cp37m-manylinux1_x86_64.whl (10.3 MB)\n",
      "Requirement already satisfied: pillow>=6.2.0 in /usr/local/lib/python3.7/site-packages (from matplotlib) (7.2.0)\n",
      "Requirement already satisfied: python-dateutil>=2.7 in /usr/local/lib/python3.7/site-packages (from matplotlib) (2.8.1)\n",
      "Requirement already satisfied: numpy>=1.16 in /usr/local/lib/python3.7/site-packages (from matplotlib) (1.18.5)\n",
      "Collecting kiwisolver>=1.0.1\n",
      "  Using cached kiwisolver-1.3.1-cp37-cp37m-manylinux1_x86_64.whl (1.1 MB)\n",
      "Requirement already satisfied: pyparsing>=2.2.1 in /usr/local/lib/python3.7/site-packages (from matplotlib) (2.4.7)\n",
      "Collecting cycler>=0.10\n",
      "  Using cached cycler-0.10.0-py2.py3-none-any.whl (6.5 kB)\n",
      "Requirement already satisfied: six in /usr/local/lib/python3.7/site-packages (from cycler>=0.10->matplotlib) (1.15.0)\n",
      "Installing collected packages: kiwisolver, cycler, matplotlib\n",
      "Successfully installed cycler-0.10.0 kiwisolver-1.3.1 matplotlib-3.4.1\n",
      "\u001b[33mWARNING: You are using pip version 21.0.1; however, version 21.1 is available.\n",
      "You should consider upgrading via the '/usr/local/bin/python -m pip install --upgrade pip' command.\u001b[0m\n",
      "Note: you may need to restart the kernel to use updated packages.\n"
     ]
    }
   ],
   "source": [
    "pip install matplotlib"
   ]
  },
  {
   "cell_type": "code",
   "execution_count": 6,
   "metadata": {},
   "outputs": [],
   "source": [
    "import tensorflow as tf\n",
    "from tensorflow.keras.utils import to_categorical\n",
    "from tensorflow.keras.layers import Dense, Flatten, Conv2D, MaxPool2D, Dropout, BatchNormalization\n",
    "from tensorflow.keras.optimizers import Adam\n",
    "from tensorflow.keras.callbacks import EarlyStopping, ModelCheckpoint\n",
    "from tensorflow.keras.layers import Input\n",
    "# import tf_slim as slim\n",
    "\n",
    "from sklearn.model_selection import train_test_split\n",
    "from sklearn.metrics import confusion_matrix\n",
    "\n",
    "import numpy as np\n",
    "import matplotlib.pyplot as plt\n",
    "from PIL import Image\n",
    "import os\n",
    "import itertools\n",
    "import random\n",
    "%matplotlib inline\n",
    "np.random.seed(2)"
   ]
  },
  {
   "cell_type": "code",
   "execution_count": 7,
   "metadata": {},
   "outputs": [],
   "source": [
    "# def SRM(imgs):\n",
    "#     filter1 = [[0, 0, 0, 0, 0],\n",
    "#                [0, -1, 2, -1, 0],\n",
    "#                [0, 2, -4, 2, 0],\n",
    "#                [0, -1, 2, -1, 0],\n",
    "#                [0, 0, 0, 0, 0]]\n",
    "#     filter2 = [[-1, 2, -2, 2, -1],\n",
    "#                [2, -6, 8, -6, 2],\n",
    "#                [-2, 8, -12, 8, -2],\n",
    "#                [2, -6, 8, -6, 2],\n",
    "#                [-1, 2, -2, 2, -1]]\n",
    "#     filter3 = [[0, 0, 0, 0, 0],\n",
    "#                [0, 0, 0, 0, 0],\n",
    "#                [0, 1, -2, 1, 0],\n",
    "#                [0, 0, 0, 0, 0],\n",
    "#                [0, 0, 0, 0, 0]]\n",
    "#     q = [4.0, 12.0, 2.0]\n",
    "#     filter1 = np.asarray(filter1, dtype=float) / 4\n",
    "#     filter2 = np.asarray(filter2, dtype=float) / 12\n",
    "#     filter3 = np.asarray(filter3, dtype=float) / 2\n",
    "#     filters = [[filter1, filter1, filter1], [filter2, filter2, filter2], [filter3, filter3, filter3]]\n",
    "#     filters = np.einsum('klij->ijlk', filters)\n",
    "#     filters = tf.Variable(filters, dtype=tf.float32)\n",
    "#     imgs = np.array(imgs, dtype=float)\n",
    "#     input = tf.Variable(imgs, dtype=tf.float32)\n",
    "#     op = tf.nn.conv2d(input, filters, strides=[1, 1, 1, 1], padding='SAME')\n",
    "\n",
    "#     q = [4.0, 12.0, 2.0]\n",
    "#     filter1 = [[0, 0, 0, 0, 0],\n",
    "#             [0, -1, 2, -1, 0],\n",
    "#             [0, 2, -4, 2, 0],\n",
    "#             [0, -1, 2, -1, 0],\n",
    "#             [0, 0, 0, 0, 0]]\n",
    "#     filter2 = [[-1, 2, -2, 2, -1],\n",
    "#             [2, -6, 8, -6, 2],\n",
    "#             [-2, 8, -12, 8, -2],\n",
    "#             [2, -6, 8, -6, 2],\n",
    "#             [-1, 2, -2, 2, -1]]\n",
    "#     filter3 = [[0, 0, 0, 0, 0],\n",
    "#             [0, 0, 0, 0, 0],\n",
    "#             [0, 1, -2, 1, 0],\n",
    "#             [0, 0, 0, 0, 0],\n",
    "#             [0, 0, 0, 0, 0]]\n",
    "#     filter1 = np.asarray(filter1, dtype=float) / q[0]\n",
    "#     filter2 = np.asarray(filter2, dtype=float) / q[1]\n",
    "#     filter3 = np.asarray(filter3, dtype=float) / q[2]\n",
    "#     filters = [[filter1, filter1, filter1], [filter2, filter2, filter2], [filter3, filter3, filter3]]\n",
    "#     filters = np.einsum('klij->ijlk', filters)\n",
    "#     filters = filters.flatten()\n",
    "#     imgs = np.array(imgs, dtype=float)\n",
    "#     input = tf.Variable(imgs, dtype=tf.float32)\n",
    "#     initializer_srm = tf.constant_initializer(filters)\n",
    "#     def truncate_2(x):\n",
    "#         neg = ((x + 2) + abs(x + 2)) / 2 - 2\n",
    "#         return -(-neg+2 + abs(- neg+2)) / 2 + 2\n",
    "#     op2 = slim.conv2d(input, 3, [5, 5], trainable=False, weights_initializer=initializer_srm, activation_fn=None, padding='SAME', stride=1, scope='srm')\n",
    "#     op2 = truncate_2(op2)\n",
    "\n",
    "#     res = np.round(op[0])\n",
    "#     res[res > 2] = 2\n",
    "#     res[res < -2] = -2\n",
    "\n",
    "#     ress = np.array([res], dtype=float)\n",
    "#     ress2 = np.array(op2, dtype=float)\n",
    "#     return ress2"
   ]
  },
  {
   "cell_type": "code",
   "execution_count": 8,
   "metadata": {},
   "outputs": [],
   "source": [
    "def initializer():\n",
    "    filter1 = [[0, 0, 0, 0, 0],\n",
    "               [0, -1, 2, -1, 0],\n",
    "               [0, 2, -4, 2, 0],\n",
    "               [0, -1, 2, -1, 0],\n",
    "               [0, 0, 0, 0, 0]]\n",
    "    filter2 = [[-1, 2, -2, 2, -1],\n",
    "               [2, -6, 8, -6, 2],\n",
    "               [-2, 8, -12, 8, -2],\n",
    "               [2, -6, 8, -6, 2],\n",
    "               [-1, 2, -2, 2, -1]]\n",
    "    filter3 = [[0, 0, 0, 0, 0],\n",
    "               [0, 0, 0, 0, 0],\n",
    "               [0, 1, -2, 1, 0],\n",
    "               [0, 0, 0, 0, 0],\n",
    "               [0, 0, 0, 0, 0]]\n",
    "    q = [4.0, 12.0, 2.0]\n",
    "    filter1 = np.asarray(filter1, dtype=float) / 4\n",
    "    filter2 = np.asarray(filter2, dtype=float) / 12\n",
    "    filter3 = np.asarray(filter3, dtype=float) / 2\n",
    "    filters = [[filter1, filter1, filter1], [filter2, filter2, filter2], [filter3, filter3, filter3]]\n",
    "    filters = np.einsum('klij->ijlk', filters)\n",
    "    filters = tf.Variable(filters, dtype=tf.float32)\n",
    "    return filters"
   ]
  },
  {
   "cell_type": "code",
   "execution_count": 9,
   "metadata": {},
   "outputs": [],
   "source": [
    "h = 224\n",
    "w = 224\n",
    "image_size = (h, w)\n",
    "\n",
    "# np_arr = lambda img: img.resize(image_size).flatten() / 255.0\n",
    "np_arr = lambda img: np.array(img.resize(image_size)).flatten() / 255.0\n",
    "\n",
    "def prepare_image(image_path):\n",
    "    # img = Image.open(image_path)\n",
    "    # img = img.resize(image_size)\n",
    "    # img = np.asarray(img)\n",
    "    # imgs = np.array(img, dtype=float)\n",
    "    # input = tf.Variable(imgs, dtype=tf.float32)\n",
    "    return np_arr(Image.open(image_path))\n",
    "    # SRM([img])"
   ]
  },
  {
   "cell_type": "code",
   "execution_count": 10,
   "metadata": {},
   "outputs": [],
   "source": [
    "# img = prepare_image('./example_images/Tp_D_CNN_S_O_nat10153_ani00097_12135.jpg')\n",
    "# img.shape"
   ]
  },
  {
   "cell_type": "code",
   "execution_count": 11,
   "metadata": {},
   "outputs": [],
   "source": [
    "# img = Image.open('Tp_D_NNN_M_N_pla10121_cha00027_11669.jpg')\n",
    "# # img = np.asarray(img)\n",
    "# img = img.resize(image_size)\n",
    "# img = np.asarray(img) /255.0\n",
    "# img.shape"
   ]
  },
  {
   "cell_type": "code",
   "execution_count": 12,
   "metadata": {},
   "outputs": [],
   "source": [
    "# cat = prepare_image('./example_images/Tp_D_CNN_S_O_nat10153_ani00097_12135.jpg')\n",
    "# plt.imshow(cat[0])\n",
    "# # plt.show()\n",
    "# plt.axis('off')\n",
    "# plt.savefig(\"srm.png\", bbox_inches='tight', pad_inches=0)"
   ]
  },
  {
   "cell_type": "code",
   "execution_count": 13,
   "metadata": {},
   "outputs": [],
   "source": [
    "X = [] # SRM converted images\n",
    "Y = [] # 0 for fake, 1 for real"
   ]
  },
  {
   "cell_type": "code",
   "execution_count": 14,
   "metadata": {},
   "outputs": [],
   "source": [
    "def prepare_data(path, cls):\n",
    "    for dirname, _, filenames in os.walk(path):\n",
    "        for filename in filenames:\n",
    "            if filename.endswith('jpg') or filename.endswith('png'):\n",
    "                try:\n",
    "                    full_path = os.path.join(dirname, filename)\n",
    "                    X.append(prepare_image(full_path))\n",
    "                    Y.append(cls)\n",
    "                except:\n",
    "                    pass\n",
    "                if len(Y) % 500 == 0:\n",
    "                    print('Processing {} images'.format(len(Y)))"
   ]
  },
  {
   "cell_type": "code",
   "execution_count": 15,
   "metadata": {
    "tags": []
   },
   "outputs": [
    {
     "name": "stdout",
     "output_type": "stream",
     "text": [
      "Processing 500 images\n"
     ]
    },
    {
     "name": "stderr",
     "output_type": "stream",
     "text": [
      "/usr/local/lib/python3.7/site-packages/PIL/TiffImagePlugin.py:766: UserWarning: Possibly corrupt EXIF data.  Expecting to read 8 bytes but only got 2. Skipping tag 41487\n",
      "  \" Skipping tag %s\" % (size, len(data), tag)\n",
      "/usr/local/lib/python3.7/site-packages/PIL/TiffImagePlugin.py:766: UserWarning: Possibly corrupt EXIF data.  Expecting to read 8 bytes but only got 0. Skipping tag 41988\n",
      "  \" Skipping tag %s\" % (size, len(data), tag)\n"
     ]
    },
    {
     "name": "stdout",
     "output_type": "stream",
     "text": [
      "Processing 1000 images\n",
      "Processing 1500 images\n",
      "Processing 2000 images\n",
      "Processing 2500 images\n",
      "Processing 3000 images\n",
      "Processing 3500 images\n",
      "Processing 4000 images\n",
      "Processing 4500 images\n",
      "Processing 5000 images\n",
      "Processing 5500 images\n",
      "Processing 6000 images\n",
      "Processing 6500 images\n",
      "Processing 7000 images\n",
      "7329 7329\n"
     ]
    }
   ],
   "source": [
    "#place authentic\n",
    "Au_path = '../forgery/data/Au'\n",
    "prepare_data(Au_path, 1)\n",
    "random.shuffle(X)\n",
    "# X = X[:2100]\n",
    "# Y = Y[:2100]\n",
    "print(len(X), len(Y))"
   ]
  },
  {
   "cell_type": "code",
   "execution_count": 16,
   "metadata": {},
   "outputs": [
    {
     "name": "stdout",
     "output_type": "stream",
     "text": [
      "Processing 7500 images\n",
      "Processing 8000 images\n",
      "Processing 8500 images\n",
      "Processing 9000 images\n",
      "9393 9393\n"
     ]
    }
   ],
   "source": [
    "#place tampered\n",
    "Tp_path = '../forgery/data/Tp'\n",
    "prepare_data(Tp_path, 0)\n",
    "print(len(X), len(Y))"
   ]
  },
  {
   "cell_type": "code",
   "execution_count": 17,
   "metadata": {},
   "outputs": [],
   "source": [
    "X = np.array(X)\n",
    "Y = to_categorical(Y, 2)\n",
    "X = X.reshape(-1, h, w, 3)\n",
    "\n",
    "x_train, x_val, y_train, y_val = train_test_split(X, Y, test_size = 0.2, random_state=5)\n",
    "\n",
    "X = X.reshape(-1,1,1,1)"
   ]
  },
  {
   "cell_type": "code",
   "execution_count": 18,
   "metadata": {},
   "outputs": [],
   "source": [
    "# def truncate_2(x):\n",
    "#     neg = ((x + 2) + abs(x + 2)) / 2 - 2\n",
    "#     return -(-neg+2 + abs(- neg+2)) / 2 + 2"
   ]
  },
  {
   "cell_type": "code",
   "execution_count": 19,
   "metadata": {},
   "outputs": [],
   "source": [
    "initializer_srm = initializer()"
   ]
  },
  {
   "cell_type": "code",
   "execution_count": 28,
   "metadata": {},
   "outputs": [
    {
     "name": "stdout",
     "output_type": "stream",
     "text": [
      "Model: \"functional_9\"\n",
      "_________________________________________________________________\n",
      "Layer (type)                 Output Shape              Param #   \n",
      "=================================================================\n",
      "input_5 (InputLayer)         [(None, 224, 224, 3)]     0         \n",
      "_________________________________________________________________\n",
      "tf_op_layer_srm-layer_4 (Ten [(None, 224, 224, 3)]     0         \n",
      "_________________________________________________________________\n",
      "conv2d_16 (Conv2D)           (None, 222, 222, 32)      896       \n",
      "_________________________________________________________________\n",
      "conv2d_17 (Conv2D)           (None, 220, 220, 32)      9248      \n",
      "_________________________________________________________________\n",
      "max_pooling2d_8 (MaxPooling2 (None, 110, 110, 32)      0         \n",
      "_________________________________________________________________\n",
      "dropout_8 (Dropout)          (None, 110, 110, 32)      0         \n",
      "_________________________________________________________________\n",
      "flatten_4 (Flatten)          (None, 387200)            0         \n",
      "_________________________________________________________________\n",
      "dense_8 (Dense)              (None, 256)               99123456  \n",
      "_________________________________________________________________\n",
      "dropout_9 (Dropout)          (None, 256)               0         \n",
      "_________________________________________________________________\n",
      "dense_9 (Dense)              (None, 2)                 514       \n",
      "=================================================================\n",
      "Total params: 99,134,114\n",
      "Trainable params: 99,134,114\n",
      "Non-trainable params: 0\n",
      "_________________________________________________________________\n"
     ]
    }
   ],
   "source": [
    "input = Input(shape=(h, w, 3))\n",
    "op = tf.nn.conv2d(input, initializer_srm, strides=[1, 1, 1, 1], padding='SAME', name='srm-layer')\n",
    "x = Conv2D(32, 3, padding='valid', activation='relu')(op)\n",
    "x = BatchNormalization()(x)\n",
    "x = Conv2D(32, 3, padding='valid', activation='relu')(x)\n",
    "x = MaxPool2D(pool_size=2)(x)\n",
    "x = Dropout(0.25)(x)\n",
    "# x = Conv2D(64, 5, padding='valid', activation='relu')(op)\n",
    "# x = Conv2D(64, 5, padding='valid', activation='relu')(x)\n",
    "# x = MaxPool2D(pool_size=2)(x)\n",
    "# x = Dropout(0.25)(x)\n",
    "x = Flatten()(x)\n",
    "x = Dense(128, activation='relu')(x)\n",
    "x = Dropout(0.5)(x)\n",
    "output = Dense(2, activation='softmax')(x)\n",
    "\n",
    "model = tf.keras.Model(inputs=[input], outputs=[output])\n",
    "model.summary()"
   ]
  },
  {
   "cell_type": "code",
   "execution_count": 29,
   "metadata": {},
   "outputs": [],
   "source": [
    "# input = Input(shape=(h,w,3))\n",
    "# op = tf.nn.conv2d(input, initializer_srm, strides=[1, 1, 1, 1], padding='SAME', name='srm-layer')\n",
    "# x = Conv2D(32, 3, activation='relu', padding='same')(op)\n",
    "# x = Conv2D(32, 3, activation='relu', padding='same')(x)\n",
    "# x = MaxPool2D(padding='same')(x)\n",
    "# x = Dropout(0.25)(x)\n",
    "\n",
    "# x = Conv2D(32, 3, activation='relu', padding='same')(x)\n",
    "# x = Conv2D(32, 3, activation='relu', padding='same')(x)\n",
    "# x = MaxPool2D(padding='same')(x)\n",
    "# x = Dropout(0.2)(x)\n",
    "\n",
    "# x = Conv2D(64, 5, activation='relu', padding='same')(x)\n",
    "# x = BatchNormalization()(x)\n",
    "# x = Conv2D(64, 5, activation='relu', padding='same')(x)\n",
    "# x = MaxPool2D(padding='same')(x)\n",
    "# x = Dropout(0.25)(x)\n",
    "# # x = Conv2D(64, 3, activation='relu', padding='same')(x)\n",
    "# # x = Conv2D(64, 3, activation='relu', padding='same')(x)\n",
    "# # x = MaxPool2D(padding='same')(x)\n",
    "# # x = BatchNormalization()(x)\n",
    "\n",
    "# # x = Conv2D(128, 5, activation='relu', padding='same')(x)\n",
    "# # x = BatchNormalization()(x)\n",
    "# # x = Conv2D(128, 5, activation='relu', padding='same')(x)\n",
    "# # x = MaxPool2D(padding='same')(x)\n",
    "# # x = Dropout(0.25)(x)\n",
    "\n",
    "# # x = Conv2D(256, 5, activation='relu', padding='same')(x)\n",
    "# # x = BatchNormalization()(x)\n",
    "# # x = Conv2D(256, 5, activation='relu', padding='same')(x)\n",
    "# # x = MaxPool2D(padding='same')(x)\n",
    "# # x = Dropout(0.25)(x)\n",
    "\n",
    "# x = Flatten()(x)\n",
    "# x = Dense(512, activation='relu')(x)\n",
    "# x = Dropout(0.5)(x)\n",
    "\n",
    "# output = Dense(2, activation='softmax')(x)\n",
    "\n",
    "# model = tf.keras.Model(inputs=[input], outputs=[output])\n",
    "# model.summary()\n",
    "\n",
    "# # model = tf.keras.models.Sequential()\n",
    "# # model.add(Conv2D(32, 5, padding='valid', activation='relu', input_shape=[224, 224, 3]))\n",
    "# # model.add(Conv2D(32, 5, padding='valid', activation='relu', input_shape=[224, 224, 3]))\n",
    "# # model.add(MaxPool2D(pool_size=2))\n",
    "# # model.add(Dropout(0.25))\n",
    "# # model.add(Flatten())\n",
    "# # model.add(Dense(256, activation='relu'))\n",
    "# # model.add(Dropout(0.5))\n",
    "# # model.add(Dense(2, activation='softmax'))\n",
    "\n",
    "# # model.summary()"
   ]
  },
  {
   "cell_type": "code",
   "execution_count": 30,
   "metadata": {},
   "outputs": [],
   "source": [
    "# input = Input(shape=(h,w,3))\n",
    "# op = tf.nn.conv2d(input, initializer_srm, strides=[1, 1, 1, 1], padding='SAME', name='srm-layer')\n",
    "# # op2 = slim.conv2d(input, 3, [5, 5], trainable=False, weights_initializer=initializer_srm, activation_fn=None, padding='SAME', stride=1, scope='srm')\n",
    "# # op2 = truncate_2(op2)\n",
    "# x = Conv2D(64, 3, activation='relu', padding='same')(op)\n",
    "# x = BatchNormalization()(x)\n",
    "# x = Conv2D(64, 3, activation='relu', padding='same')(x)\n",
    "# x = BatchNormalization()(x)\n",
    "# x = MaxPool2D(padding='same')(x)\n",
    "# x = BatchNormalization()(x)\n",
    "\n",
    "# x = Conv2D(128, 3, activation='relu', padding='same')(x)\n",
    "# x = BatchNormalization()(x)\n",
    "# x = Conv2D(128, 3, activation='relu', padding='same')(x)\n",
    "# x = BatchNormalization()(x)\n",
    "# x = MaxPool2D(padding='same')(x)\n",
    "# x = BatchNormalization()(x)\n",
    "\n",
    "# x = Conv2D(256, 5, activation='relu', padding='same')(x)\n",
    "# x = BatchNormalization()(x)\n",
    "# x = Conv2D(256, 5, activation='relu', padding='same')(x)\n",
    "# x = BatchNormalization()(x)\n",
    "# x = Conv2D(256, 5, activation='relu', padding='same')(x)\n",
    "# x = BatchNormalization()(x)\n",
    "# x = MaxPool2D(padding='same')(x)\n",
    "# x = BatchNormalization()(x)\n",
    "\n",
    "# x = Conv2D(512, 7, activation='relu', padding='same')(x)\n",
    "# x = BatchNormalization()(x)\n",
    "# x = Conv2D(512, 7, activation='relu', padding='same')(x)\n",
    "# x = BatchNormalization()(x)\n",
    "# x = Conv2D(512, 7, activation='relu', padding='same')(x)\n",
    "# x = MaxPool2D(padding='same')(x)\n",
    "# x = BatchNormalization()(x)\n",
    "\n",
    "# # x = Conv2D(512, 3, activation='relu', padding='same')(x)\n",
    "# # x = Conv2D(512, 3, activation='relu', padding='same')(x)\n",
    "# # x = Conv2D(512, 3, activation='relu', padding='same')(x)\n",
    "\n",
    "# x = Flatten()(x)\n",
    "# x = BatchNormalization()(x)\n",
    "# x = Dense(512, activation='relu')(x)\n",
    "# x = BatchNormalization()(x)\n",
    "\n",
    "# output = Dense(2, activation='softmax')(x)\n",
    "\n",
    "# model = tf.keras.Model(inputs=[input], outputs=[output])\n",
    "# model.summary()"
   ]
  },
  {
   "cell_type": "code",
   "execution_count": 33,
   "metadata": {},
   "outputs": [],
   "source": [
    "epochs = 100\n",
    "batch_size = 32\n",
    "init_lr = 1e-3\n",
    "optimizer = Adam(lr = init_lr)\n",
    "# optimizer = Adam(lr = init_lr, decay = init_lr/epochs)\n",
    "\n",
    "early_stopping = EarlyStopping(monitor='val_acc', min_delta=0,patience=2, verbose=0, mode='auto')\n",
    "\n",
    "checkpoint_filepath = 'srm/checkpoint'\n",
    "model_checkpoint_callback = ModelCheckpoint(filepath=checkpoint_filepath, save_weights_only=True, monitor='val_accuracy', mode='max', save_best_only=True)\n",
    "\n",
    "model.compile(optimizer = optimizer, loss = 'binary_crossentropy', metrics=['accuracy'])"
   ]
  },
  {
   "cell_type": "code",
   "execution_count": 34,
   "metadata": {},
   "outputs": [
    {
     "name": "stdout",
     "output_type": "stream",
     "text": [
      "Epoch 1/100\n",
      "  2/235 [..............................] - ETA: 10s - loss: 0.0938 - accuracy: 0.9531WARNING:tensorflow:Callbacks method `on_train_batch_end` is slow compared to the batch time (batch time: 0.0291s vs `on_train_batch_end` time: 0.0649s). Check your callbacks.\n"
     ]
    },
    {
     "name": "stderr",
     "output_type": "stream",
     "text": [
      "WARNING:tensorflow:Callbacks method `on_train_batch_end` is slow compared to the batch time (batch time: 0.0291s vs `on_train_batch_end` time: 0.0649s). Check your callbacks.\n"
     ]
    },
    {
     "name": "stdout",
     "output_type": "stream",
     "text": [
      "235/235 [==============================] - ETA: 0s - loss: 0.1079 - accuracy: 0.9542WARNING:tensorflow:Early stopping conditioned on metric `val_acc` which is not available. Available metrics are: loss,accuracy,val_loss,val_accuracy\n"
     ]
    },
    {
     "name": "stderr",
     "output_type": "stream",
     "text": [
      "WARNING:tensorflow:Early stopping conditioned on metric `val_acc` which is not available. Available metrics are: loss,accuracy,val_loss,val_accuracy\n"
     ]
    },
    {
     "name": "stdout",
     "output_type": "stream",
     "text": [
      "235/235 [==============================] - 33s 140ms/step - loss: 0.1079 - accuracy: 0.9542 - val_loss: 0.9203 - val_accuracy: 0.8324\n",
      "Epoch 2/100\n",
      "235/235 [==============================] - ETA: 0s - loss: 0.0974 - accuracy: 0.9574WARNING:tensorflow:Early stopping conditioned on metric `val_acc` which is not available. Available metrics are: loss,accuracy,val_loss,val_accuracy\n"
     ]
    },
    {
     "name": "stderr",
     "output_type": "stream",
     "text": [
      "WARNING:tensorflow:Early stopping conditioned on metric `val_acc` which is not available. Available metrics are: loss,accuracy,val_loss,val_accuracy\n"
     ]
    },
    {
     "name": "stdout",
     "output_type": "stream",
     "text": [
      "235/235 [==============================] - 32s 138ms/step - loss: 0.0974 - accuracy: 0.9574 - val_loss: 0.8363 - val_accuracy: 0.8334\n",
      "Epoch 3/100\n",
      "235/235 [==============================] - ETA: 0s - loss: 0.0899 - accuracy: 0.9649WARNING:tensorflow:Early stopping conditioned on metric `val_acc` which is not available. Available metrics are: loss,accuracy,val_loss,val_accuracy\n"
     ]
    },
    {
     "name": "stderr",
     "output_type": "stream",
     "text": [
      "WARNING:tensorflow:Early stopping conditioned on metric `val_acc` which is not available. Available metrics are: loss,accuracy,val_loss,val_accuracy\n"
     ]
    },
    {
     "name": "stdout",
     "output_type": "stream",
     "text": [
      "235/235 [==============================] - 33s 139ms/step - loss: 0.0899 - accuracy: 0.9649 - val_loss: 0.8826 - val_accuracy: 0.8340\n",
      "Epoch 4/100\n",
      "235/235 [==============================] - ETA: 0s - loss: 0.0879 - accuracy: 0.9633WARNING:tensorflow:Early stopping conditioned on metric `val_acc` which is not available. Available metrics are: loss,accuracy,val_loss,val_accuracy\n"
     ]
    },
    {
     "name": "stderr",
     "output_type": "stream",
     "text": [
      "WARNING:tensorflow:Early stopping conditioned on metric `val_acc` which is not available. Available metrics are: loss,accuracy,val_loss,val_accuracy\n"
     ]
    },
    {
     "name": "stdout",
     "output_type": "stream",
     "text": [
      "235/235 [==============================] - 33s 138ms/step - loss: 0.0879 - accuracy: 0.9633 - val_loss: 0.9395 - val_accuracy: 0.8377\n",
      "Epoch 5/100\n",
      "235/235 [==============================] - ETA: 0s - loss: 0.0866 - accuracy: 0.9650WARNING:tensorflow:Early stopping conditioned on metric `val_acc` which is not available. Available metrics are: loss,accuracy,val_loss,val_accuracy\n"
     ]
    },
    {
     "name": "stderr",
     "output_type": "stream",
     "text": [
      "WARNING:tensorflow:Early stopping conditioned on metric `val_acc` which is not available. Available metrics are: loss,accuracy,val_loss,val_accuracy\n"
     ]
    },
    {
     "name": "stdout",
     "output_type": "stream",
     "text": [
      "235/235 [==============================] - 20s 86ms/step - loss: 0.0866 - accuracy: 0.9650 - val_loss: 0.7471 - val_accuracy: 0.8361\n",
      "Epoch 6/100\n",
      "235/235 [==============================] - ETA: 0s - loss: 0.0798 - accuracy: 0.9669WARNING:tensorflow:Early stopping conditioned on metric `val_acc` which is not available. Available metrics are: loss,accuracy,val_loss,val_accuracy\n"
     ]
    },
    {
     "name": "stderr",
     "output_type": "stream",
     "text": [
      "WARNING:tensorflow:Early stopping conditioned on metric `val_acc` which is not available. Available metrics are: loss,accuracy,val_loss,val_accuracy\n"
     ]
    },
    {
     "name": "stdout",
     "output_type": "stream",
     "text": [
      "235/235 [==============================] - 20s 86ms/step - loss: 0.0798 - accuracy: 0.9669 - val_loss: 1.0303 - val_accuracy: 0.8371\n",
      "Epoch 7/100\n",
      "235/235 [==============================] - ETA: 0s - loss: 0.0768 - accuracy: 0.9702WARNING:tensorflow:Early stopping conditioned on metric `val_acc` which is not available. Available metrics are: loss,accuracy,val_loss,val_accuracy\n"
     ]
    },
    {
     "name": "stderr",
     "output_type": "stream",
     "text": [
      "WARNING:tensorflow:Early stopping conditioned on metric `val_acc` which is not available. Available metrics are: loss,accuracy,val_loss,val_accuracy\n"
     ]
    },
    {
     "name": "stdout",
     "output_type": "stream",
     "text": [
      "235/235 [==============================] - 33s 139ms/step - loss: 0.0768 - accuracy: 0.9702 - val_loss: 1.0503 - val_accuracy: 0.8425\n",
      "Epoch 8/100\n",
      "235/235 [==============================] - ETA: 0s - loss: 0.0743 - accuracy: 0.9710WARNING:tensorflow:Early stopping conditioned on metric `val_acc` which is not available. Available metrics are: loss,accuracy,val_loss,val_accuracy\n"
     ]
    },
    {
     "name": "stderr",
     "output_type": "stream",
     "text": [
      "WARNING:tensorflow:Early stopping conditioned on metric `val_acc` which is not available. Available metrics are: loss,accuracy,val_loss,val_accuracy\n"
     ]
    },
    {
     "name": "stdout",
     "output_type": "stream",
     "text": [
      "235/235 [==============================] - 20s 86ms/step - loss: 0.0743 - accuracy: 0.9710 - val_loss: 1.1627 - val_accuracy: 0.8377\n",
      "Epoch 9/100\n",
      "235/235 [==============================] - ETA: 0s - loss: 0.0732 - accuracy: 0.9697WARNING:tensorflow:Early stopping conditioned on metric `val_acc` which is not available. Available metrics are: loss,accuracy,val_loss,val_accuracy\n"
     ]
    },
    {
     "name": "stderr",
     "output_type": "stream",
     "text": [
      "WARNING:tensorflow:Early stopping conditioned on metric `val_acc` which is not available. Available metrics are: loss,accuracy,val_loss,val_accuracy\n"
     ]
    },
    {
     "name": "stdout",
     "output_type": "stream",
     "text": [
      "235/235 [==============================] - 20s 86ms/step - loss: 0.0732 - accuracy: 0.9697 - val_loss: 0.9111 - val_accuracy: 0.8366\n",
      "Epoch 10/100\n",
      "235/235 [==============================] - ETA: 0s - loss: 0.0675 - accuracy: 0.9723WARNING:tensorflow:Early stopping conditioned on metric `val_acc` which is not available. Available metrics are: loss,accuracy,val_loss,val_accuracy\n"
     ]
    },
    {
     "name": "stderr",
     "output_type": "stream",
     "text": [
      "WARNING:tensorflow:Early stopping conditioned on metric `val_acc` which is not available. Available metrics are: loss,accuracy,val_loss,val_accuracy\n"
     ]
    },
    {
     "name": "stdout",
     "output_type": "stream",
     "text": [
      "235/235 [==============================] - 33s 139ms/step - loss: 0.0675 - accuracy: 0.9723 - val_loss: 1.0822 - val_accuracy: 0.8435\n",
      "Epoch 11/100\n",
      "235/235 [==============================] - ETA: 0s - loss: 0.0730 - accuracy: 0.9691WARNING:tensorflow:Early stopping conditioned on metric `val_acc` which is not available. Available metrics are: loss,accuracy,val_loss,val_accuracy\n"
     ]
    },
    {
     "name": "stderr",
     "output_type": "stream",
     "text": [
      "WARNING:tensorflow:Early stopping conditioned on metric `val_acc` which is not available. Available metrics are: loss,accuracy,val_loss,val_accuracy\n"
     ]
    },
    {
     "name": "stdout",
     "output_type": "stream",
     "text": [
      "235/235 [==============================] - 20s 86ms/step - loss: 0.0730 - accuracy: 0.9691 - val_loss: 1.0374 - val_accuracy: 0.8409\n",
      "Epoch 12/100\n",
      "235/235 [==============================] - ETA: 0s - loss: 0.0588 - accuracy: 0.9758WARNING:tensorflow:Early stopping conditioned on metric `val_acc` which is not available. Available metrics are: loss,accuracy,val_loss,val_accuracy\n"
     ]
    },
    {
     "name": "stderr",
     "output_type": "stream",
     "text": [
      "WARNING:tensorflow:Early stopping conditioned on metric `val_acc` which is not available. Available metrics are: loss,accuracy,val_loss,val_accuracy\n"
     ]
    },
    {
     "name": "stdout",
     "output_type": "stream",
     "text": [
      "235/235 [==============================] - 33s 139ms/step - loss: 0.0588 - accuracy: 0.9758 - val_loss: 1.1273 - val_accuracy: 0.8441\n",
      "Epoch 13/100\n",
      "235/235 [==============================] - ETA: 0s - loss: 0.0575 - accuracy: 0.9786WARNING:tensorflow:Early stopping conditioned on metric `val_acc` which is not available. Available metrics are: loss,accuracy,val_loss,val_accuracy\n"
     ]
    },
    {
     "name": "stderr",
     "output_type": "stream",
     "text": [
      "WARNING:tensorflow:Early stopping conditioned on metric `val_acc` which is not available. Available metrics are: loss,accuracy,val_loss,val_accuracy\n"
     ]
    },
    {
     "name": "stdout",
     "output_type": "stream",
     "text": [
      "235/235 [==============================] - 20s 86ms/step - loss: 0.0575 - accuracy: 0.9786 - val_loss: 1.0829 - val_accuracy: 0.8430\n",
      "Epoch 14/100\n",
      "235/235 [==============================] - ETA: 0s - loss: 0.0603 - accuracy: 0.9762WARNING:tensorflow:Early stopping conditioned on metric `val_acc` which is not available. Available metrics are: loss,accuracy,val_loss,val_accuracy\n"
     ]
    },
    {
     "name": "stderr",
     "output_type": "stream",
     "text": [
      "WARNING:tensorflow:Early stopping conditioned on metric `val_acc` which is not available. Available metrics are: loss,accuracy,val_loss,val_accuracy\n"
     ]
    },
    {
     "name": "stdout",
     "output_type": "stream",
     "text": [
      "235/235 [==============================] - 20s 86ms/step - loss: 0.0603 - accuracy: 0.9762 - val_loss: 1.0830 - val_accuracy: 0.8425\n",
      "Epoch 15/100\n",
      "235/235 [==============================] - ETA: 0s - loss: 0.0623 - accuracy: 0.9764WARNING:tensorflow:Early stopping conditioned on metric `val_acc` which is not available. Available metrics are: loss,accuracy,val_loss,val_accuracy\n"
     ]
    },
    {
     "name": "stderr",
     "output_type": "stream",
     "text": [
      "WARNING:tensorflow:Early stopping conditioned on metric `val_acc` which is not available. Available metrics are: loss,accuracy,val_loss,val_accuracy\n"
     ]
    },
    {
     "name": "stdout",
     "output_type": "stream",
     "text": [
      "235/235 [==============================] - 33s 139ms/step - loss: 0.0623 - accuracy: 0.9764 - val_loss: 1.1069 - val_accuracy: 0.8473\n",
      "Epoch 16/100\n",
      "235/235 [==============================] - ETA: 0s - loss: 0.0524 - accuracy: 0.9787WARNING:tensorflow:Early stopping conditioned on metric `val_acc` which is not available. Available metrics are: loss,accuracy,val_loss,val_accuracy\n"
     ]
    },
    {
     "name": "stderr",
     "output_type": "stream",
     "text": [
      "WARNING:tensorflow:Early stopping conditioned on metric `val_acc` which is not available. Available metrics are: loss,accuracy,val_loss,val_accuracy\n"
     ]
    },
    {
     "name": "stdout",
     "output_type": "stream",
     "text": [
      "235/235 [==============================] - 20s 86ms/step - loss: 0.0524 - accuracy: 0.9787 - val_loss: 0.9021 - val_accuracy: 0.8441\n",
      "Epoch 17/100\n",
      "235/235 [==============================] - ETA: 0s - loss: 0.0494 - accuracy: 0.9808WARNING:tensorflow:Early stopping conditioned on metric `val_acc` which is not available. Available metrics are: loss,accuracy,val_loss,val_accuracy\n"
     ]
    },
    {
     "name": "stderr",
     "output_type": "stream",
     "text": [
      "WARNING:tensorflow:Early stopping conditioned on metric `val_acc` which is not available. Available metrics are: loss,accuracy,val_loss,val_accuracy\n"
     ]
    },
    {
     "name": "stdout",
     "output_type": "stream",
     "text": [
      "235/235 [==============================] - 20s 86ms/step - loss: 0.0494 - accuracy: 0.9808 - val_loss: 1.2763 - val_accuracy: 0.8441\n",
      "Epoch 18/100\n",
      "235/235 [==============================] - ETA: 0s - loss: 0.0505 - accuracy: 0.9804WARNING:tensorflow:Early stopping conditioned on metric `val_acc` which is not available. Available metrics are: loss,accuracy,val_loss,val_accuracy\n"
     ]
    },
    {
     "name": "stderr",
     "output_type": "stream",
     "text": [
      "WARNING:tensorflow:Early stopping conditioned on metric `val_acc` which is not available. Available metrics are: loss,accuracy,val_loss,val_accuracy\n"
     ]
    },
    {
     "name": "stdout",
     "output_type": "stream",
     "text": [
      "235/235 [==============================] - 20s 86ms/step - loss: 0.0505 - accuracy: 0.9804 - val_loss: 1.2652 - val_accuracy: 0.8462\n",
      "Epoch 19/100\n",
      "235/235 [==============================] - ETA: 0s - loss: 0.0438 - accuracy: 0.9816WARNING:tensorflow:Early stopping conditioned on metric `val_acc` which is not available. Available metrics are: loss,accuracy,val_loss,val_accuracy\n"
     ]
    },
    {
     "name": "stderr",
     "output_type": "stream",
     "text": [
      "WARNING:tensorflow:Early stopping conditioned on metric `val_acc` which is not available. Available metrics are: loss,accuracy,val_loss,val_accuracy\n"
     ]
    },
    {
     "name": "stdout",
     "output_type": "stream",
     "text": [
      "235/235 [==============================] - 33s 139ms/step - loss: 0.0438 - accuracy: 0.9816 - val_loss: 1.1478 - val_accuracy: 0.8483\n",
      "Epoch 20/100\n",
      "235/235 [==============================] - ETA: 0s - loss: 0.0485 - accuracy: 0.9807WARNING:tensorflow:Early stopping conditioned on metric `val_acc` which is not available. Available metrics are: loss,accuracy,val_loss,val_accuracy\n"
     ]
    },
    {
     "name": "stderr",
     "output_type": "stream",
     "text": [
      "WARNING:tensorflow:Early stopping conditioned on metric `val_acc` which is not available. Available metrics are: loss,accuracy,val_loss,val_accuracy\n"
     ]
    },
    {
     "name": "stdout",
     "output_type": "stream",
     "text": [
      "235/235 [==============================] - 20s 86ms/step - loss: 0.0485 - accuracy: 0.9807 - val_loss: 1.2157 - val_accuracy: 0.8441\n",
      "Epoch 21/100\n",
      "235/235 [==============================] - ETA: 0s - loss: 0.0477 - accuracy: 0.9796WARNING:tensorflow:Early stopping conditioned on metric `val_acc` which is not available. Available metrics are: loss,accuracy,val_loss,val_accuracy\n"
     ]
    },
    {
     "name": "stderr",
     "output_type": "stream",
     "text": [
      "WARNING:tensorflow:Early stopping conditioned on metric `val_acc` which is not available. Available metrics are: loss,accuracy,val_loss,val_accuracy\n"
     ]
    },
    {
     "name": "stdout",
     "output_type": "stream",
     "text": [
      "235/235 [==============================] - 20s 86ms/step - loss: 0.0477 - accuracy: 0.9796 - val_loss: 1.2010 - val_accuracy: 0.8467\n",
      "Epoch 22/100\n",
      "235/235 [==============================] - ETA: 0s - loss: 0.0426 - accuracy: 0.9839WARNING:tensorflow:Early stopping conditioned on metric `val_acc` which is not available. Available metrics are: loss,accuracy,val_loss,val_accuracy\n"
     ]
    },
    {
     "name": "stderr",
     "output_type": "stream",
     "text": [
      "WARNING:tensorflow:Early stopping conditioned on metric `val_acc` which is not available. Available metrics are: loss,accuracy,val_loss,val_accuracy\n"
     ]
    },
    {
     "name": "stdout",
     "output_type": "stream",
     "text": [
      "235/235 [==============================] - 20s 86ms/step - loss: 0.0426 - accuracy: 0.9839 - val_loss: 1.3331 - val_accuracy: 0.8446\n",
      "Epoch 23/100\n",
      "235/235 [==============================] - ETA: 0s - loss: 0.0415 - accuracy: 0.9846WARNING:tensorflow:Early stopping conditioned on metric `val_acc` which is not available. Available metrics are: loss,accuracy,val_loss,val_accuracy\n"
     ]
    },
    {
     "name": "stderr",
     "output_type": "stream",
     "text": [
      "WARNING:tensorflow:Early stopping conditioned on metric `val_acc` which is not available. Available metrics are: loss,accuracy,val_loss,val_accuracy\n"
     ]
    },
    {
     "name": "stdout",
     "output_type": "stream",
     "text": [
      "235/235 [==============================] - 20s 86ms/step - loss: 0.0415 - accuracy: 0.9846 - val_loss: 1.1512 - val_accuracy: 0.8462\n",
      "Epoch 24/100\n",
      "235/235 [==============================] - ETA: 0s - loss: 0.0418 - accuracy: 0.9844WARNING:tensorflow:Early stopping conditioned on metric `val_acc` which is not available. Available metrics are: loss,accuracy,val_loss,val_accuracy\n"
     ]
    },
    {
     "name": "stderr",
     "output_type": "stream",
     "text": [
      "WARNING:tensorflow:Early stopping conditioned on metric `val_acc` which is not available. Available metrics are: loss,accuracy,val_loss,val_accuracy\n"
     ]
    },
    {
     "name": "stdout",
     "output_type": "stream",
     "text": [
      "235/235 [==============================] - 20s 86ms/step - loss: 0.0418 - accuracy: 0.9844 - val_loss: 1.2205 - val_accuracy: 0.8478\n",
      "Epoch 25/100\n",
      "235/235 [==============================] - ETA: 0s - loss: 0.0398 - accuracy: 0.9854WARNING:tensorflow:Early stopping conditioned on metric `val_acc` which is not available. Available metrics are: loss,accuracy,val_loss,val_accuracy\n"
     ]
    },
    {
     "name": "stderr",
     "output_type": "stream",
     "text": [
      "WARNING:tensorflow:Early stopping conditioned on metric `val_acc` which is not available. Available metrics are: loss,accuracy,val_loss,val_accuracy\n"
     ]
    },
    {
     "name": "stdout",
     "output_type": "stream",
     "text": [
      "235/235 [==============================] - 20s 86ms/step - loss: 0.0398 - accuracy: 0.9854 - val_loss: 1.1862 - val_accuracy: 0.8414\n",
      "Epoch 26/100\n",
      "235/235 [==============================] - ETA: 0s - loss: 0.0353 - accuracy: 0.9866WARNING:tensorflow:Early stopping conditioned on metric `val_acc` which is not available. Available metrics are: loss,accuracy,val_loss,val_accuracy\n"
     ]
    },
    {
     "name": "stderr",
     "output_type": "stream",
     "text": [
      "WARNING:tensorflow:Early stopping conditioned on metric `val_acc` which is not available. Available metrics are: loss,accuracy,val_loss,val_accuracy\n"
     ]
    },
    {
     "name": "stdout",
     "output_type": "stream",
     "text": [
      "235/235 [==============================] - 33s 139ms/step - loss: 0.0353 - accuracy: 0.9866 - val_loss: 1.2926 - val_accuracy: 0.8489\n",
      "Epoch 27/100\n",
      "235/235 [==============================] - ETA: 0s - loss: 0.0358 - accuracy: 0.9866WARNING:tensorflow:Early stopping conditioned on metric `val_acc` which is not available. Available metrics are: loss,accuracy,val_loss,val_accuracy\n"
     ]
    },
    {
     "name": "stderr",
     "output_type": "stream",
     "text": [
      "WARNING:tensorflow:Early stopping conditioned on metric `val_acc` which is not available. Available metrics are: loss,accuracy,val_loss,val_accuracy\n"
     ]
    },
    {
     "name": "stdout",
     "output_type": "stream",
     "text": [
      "235/235 [==============================] - 20s 86ms/step - loss: 0.0358 - accuracy: 0.9866 - val_loss: 1.1302 - val_accuracy: 0.8425\n",
      "Epoch 28/100\n",
      "235/235 [==============================] - ETA: 0s - loss: 0.0392 - accuracy: 0.9847WARNING:tensorflow:Early stopping conditioned on metric `val_acc` which is not available. Available metrics are: loss,accuracy,val_loss,val_accuracy\n"
     ]
    },
    {
     "name": "stderr",
     "output_type": "stream",
     "text": [
      "WARNING:tensorflow:Early stopping conditioned on metric `val_acc` which is not available. Available metrics are: loss,accuracy,val_loss,val_accuracy\n"
     ]
    },
    {
     "name": "stdout",
     "output_type": "stream",
     "text": [
      "235/235 [==============================] - 20s 86ms/step - loss: 0.0392 - accuracy: 0.9847 - val_loss: 1.2260 - val_accuracy: 0.8478\n",
      "Epoch 29/100\n",
      "235/235 [==============================] - ETA: 0s - loss: 0.0342 - accuracy: 0.9876WARNING:tensorflow:Early stopping conditioned on metric `val_acc` which is not available. Available metrics are: loss,accuracy,val_loss,val_accuracy\n"
     ]
    },
    {
     "name": "stderr",
     "output_type": "stream",
     "text": [
      "WARNING:tensorflow:Early stopping conditioned on metric `val_acc` which is not available. Available metrics are: loss,accuracy,val_loss,val_accuracy\n"
     ]
    },
    {
     "name": "stdout",
     "output_type": "stream",
     "text": [
      "235/235 [==============================] - 20s 86ms/step - loss: 0.0342 - accuracy: 0.9876 - val_loss: 1.2506 - val_accuracy: 0.8462\n",
      "Epoch 30/100\n",
      "235/235 [==============================] - ETA: 0s - loss: 0.0379 - accuracy: 0.9867WARNING:tensorflow:Early stopping conditioned on metric `val_acc` which is not available. Available metrics are: loss,accuracy,val_loss,val_accuracy\n"
     ]
    },
    {
     "name": "stderr",
     "output_type": "stream",
     "text": [
      "WARNING:tensorflow:Early stopping conditioned on metric `val_acc` which is not available. Available metrics are: loss,accuracy,val_loss,val_accuracy\n"
     ]
    },
    {
     "name": "stdout",
     "output_type": "stream",
     "text": [
      "235/235 [==============================] - 20s 86ms/step - loss: 0.0379 - accuracy: 0.9867 - val_loss: 1.2803 - val_accuracy: 0.8478\n",
      "Epoch 31/100\n",
      "235/235 [==============================] - ETA: 0s - loss: 0.0279 - accuracy: 0.9884WARNING:tensorflow:Early stopping conditioned on metric `val_acc` which is not available. Available metrics are: loss,accuracy,val_loss,val_accuracy\n"
     ]
    },
    {
     "name": "stderr",
     "output_type": "stream",
     "text": [
      "WARNING:tensorflow:Early stopping conditioned on metric `val_acc` which is not available. Available metrics are: loss,accuracy,val_loss,val_accuracy\n"
     ]
    },
    {
     "name": "stdout",
     "output_type": "stream",
     "text": [
      "235/235 [==============================] - 33s 139ms/step - loss: 0.0279 - accuracy: 0.9884 - val_loss: 1.4378 - val_accuracy: 0.8499\n",
      "Epoch 32/100\n",
      "235/235 [==============================] - ETA: 0s - loss: 0.0322 - accuracy: 0.9890WARNING:tensorflow:Early stopping conditioned on metric `val_acc` which is not available. Available metrics are: loss,accuracy,val_loss,val_accuracy\n"
     ]
    },
    {
     "name": "stderr",
     "output_type": "stream",
     "text": [
      "WARNING:tensorflow:Early stopping conditioned on metric `val_acc` which is not available. Available metrics are: loss,accuracy,val_loss,val_accuracy\n"
     ]
    },
    {
     "name": "stdout",
     "output_type": "stream",
     "text": [
      "235/235 [==============================] - 20s 86ms/step - loss: 0.0322 - accuracy: 0.9890 - val_loss: 1.2724 - val_accuracy: 0.8483\n",
      "Epoch 33/100\n",
      "235/235 [==============================] - ETA: 0s - loss: 0.0313 - accuracy: 0.9891WARNING:tensorflow:Early stopping conditioned on metric `val_acc` which is not available. Available metrics are: loss,accuracy,val_loss,val_accuracy\n"
     ]
    },
    {
     "name": "stderr",
     "output_type": "stream",
     "text": [
      "WARNING:tensorflow:Early stopping conditioned on metric `val_acc` which is not available. Available metrics are: loss,accuracy,val_loss,val_accuracy\n"
     ]
    },
    {
     "name": "stdout",
     "output_type": "stream",
     "text": [
      "235/235 [==============================] - 20s 86ms/step - loss: 0.0313 - accuracy: 0.9891 - val_loss: 1.1338 - val_accuracy: 0.8462\n",
      "Epoch 34/100\n",
      "235/235 [==============================] - ETA: 0s - loss: 0.0264 - accuracy: 0.9891WARNING:tensorflow:Early stopping conditioned on metric `val_acc` which is not available. Available metrics are: loss,accuracy,val_loss,val_accuracy\n"
     ]
    },
    {
     "name": "stderr",
     "output_type": "stream",
     "text": [
      "WARNING:tensorflow:Early stopping conditioned on metric `val_acc` which is not available. Available metrics are: loss,accuracy,val_loss,val_accuracy\n"
     ]
    },
    {
     "name": "stdout",
     "output_type": "stream",
     "text": [
      "235/235 [==============================] - 20s 86ms/step - loss: 0.0264 - accuracy: 0.9891 - val_loss: 1.4409 - val_accuracy: 0.8451\n",
      "Epoch 35/100\n",
      "235/235 [==============================] - ETA: 0s - loss: 0.0275 - accuracy: 0.9895WARNING:tensorflow:Early stopping conditioned on metric `val_acc` which is not available. Available metrics are: loss,accuracy,val_loss,val_accuracy\n"
     ]
    },
    {
     "name": "stderr",
     "output_type": "stream",
     "text": [
      "WARNING:tensorflow:Early stopping conditioned on metric `val_acc` which is not available. Available metrics are: loss,accuracy,val_loss,val_accuracy\n"
     ]
    },
    {
     "name": "stdout",
     "output_type": "stream",
     "text": [
      "235/235 [==============================] - 20s 86ms/step - loss: 0.0275 - accuracy: 0.9895 - val_loss: 1.3310 - val_accuracy: 0.8457\n",
      "Epoch 36/100\n",
      "235/235 [==============================] - ETA: 0s - loss: 0.0291 - accuracy: 0.9884WARNING:tensorflow:Early stopping conditioned on metric `val_acc` which is not available. Available metrics are: loss,accuracy,val_loss,val_accuracy\n"
     ]
    },
    {
     "name": "stderr",
     "output_type": "stream",
     "text": [
      "WARNING:tensorflow:Early stopping conditioned on metric `val_acc` which is not available. Available metrics are: loss,accuracy,val_loss,val_accuracy\n"
     ]
    },
    {
     "name": "stdout",
     "output_type": "stream",
     "text": [
      "235/235 [==============================] - 20s 86ms/step - loss: 0.0291 - accuracy: 0.9884 - val_loss: 1.3209 - val_accuracy: 0.8473\n",
      "Epoch 37/100\n",
      "235/235 [==============================] - ETA: 0s - loss: 0.0231 - accuracy: 0.9906WARNING:tensorflow:Early stopping conditioned on metric `val_acc` which is not available. Available metrics are: loss,accuracy,val_loss,val_accuracy\n"
     ]
    },
    {
     "name": "stderr",
     "output_type": "stream",
     "text": [
      "WARNING:tensorflow:Early stopping conditioned on metric `val_acc` which is not available. Available metrics are: loss,accuracy,val_loss,val_accuracy\n"
     ]
    },
    {
     "name": "stdout",
     "output_type": "stream",
     "text": [
      "235/235 [==============================] - 20s 86ms/step - loss: 0.0231 - accuracy: 0.9906 - val_loss: 1.3174 - val_accuracy: 0.8451\n",
      "Epoch 38/100\n",
      "235/235 [==============================] - ETA: 0s - loss: 0.0259 - accuracy: 0.9906WARNING:tensorflow:Early stopping conditioned on metric `val_acc` which is not available. Available metrics are: loss,accuracy,val_loss,val_accuracy\n"
     ]
    },
    {
     "name": "stderr",
     "output_type": "stream",
     "text": [
      "WARNING:tensorflow:Early stopping conditioned on metric `val_acc` which is not available. Available metrics are: loss,accuracy,val_loss,val_accuracy\n"
     ]
    },
    {
     "name": "stdout",
     "output_type": "stream",
     "text": [
      "235/235 [==============================] - 33s 139ms/step - loss: 0.0259 - accuracy: 0.9906 - val_loss: 1.4041 - val_accuracy: 0.8510\n",
      "Epoch 39/100\n",
      "235/235 [==============================] - ETA: 0s - loss: 0.0233 - accuracy: 0.9907WARNING:tensorflow:Early stopping conditioned on metric `val_acc` which is not available. Available metrics are: loss,accuracy,val_loss,val_accuracy\n"
     ]
    },
    {
     "name": "stderr",
     "output_type": "stream",
     "text": [
      "WARNING:tensorflow:Early stopping conditioned on metric `val_acc` which is not available. Available metrics are: loss,accuracy,val_loss,val_accuracy\n"
     ]
    },
    {
     "name": "stdout",
     "output_type": "stream",
     "text": [
      "235/235 [==============================] - 20s 86ms/step - loss: 0.0233 - accuracy: 0.9907 - val_loss: 1.4288 - val_accuracy: 0.8462\n",
      "Epoch 40/100\n",
      "235/235 [==============================] - ETA: 0s - loss: 0.0260 - accuracy: 0.9912WARNING:tensorflow:Early stopping conditioned on metric `val_acc` which is not available. Available metrics are: loss,accuracy,val_loss,val_accuracy\n"
     ]
    },
    {
     "name": "stderr",
     "output_type": "stream",
     "text": [
      "WARNING:tensorflow:Early stopping conditioned on metric `val_acc` which is not available. Available metrics are: loss,accuracy,val_loss,val_accuracy\n"
     ]
    },
    {
     "name": "stdout",
     "output_type": "stream",
     "text": [
      "235/235 [==============================] - 20s 86ms/step - loss: 0.0260 - accuracy: 0.9912 - val_loss: 1.3139 - val_accuracy: 0.8457\n",
      "Epoch 41/100\n",
      "235/235 [==============================] - ETA: 0s - loss: 0.0207 - accuracy: 0.9923WARNING:tensorflow:Early stopping conditioned on metric `val_acc` which is not available. Available metrics are: loss,accuracy,val_loss,val_accuracy\n"
     ]
    },
    {
     "name": "stderr",
     "output_type": "stream",
     "text": [
      "WARNING:tensorflow:Early stopping conditioned on metric `val_acc` which is not available. Available metrics are: loss,accuracy,val_loss,val_accuracy\n"
     ]
    },
    {
     "name": "stdout",
     "output_type": "stream",
     "text": [
      "235/235 [==============================] - 33s 139ms/step - loss: 0.0207 - accuracy: 0.9923 - val_loss: 1.3845 - val_accuracy: 0.8520\n",
      "Epoch 42/100\n",
      "235/235 [==============================] - ETA: 0s - loss: 0.0241 - accuracy: 0.9908WARNING:tensorflow:Early stopping conditioned on metric `val_acc` which is not available. Available metrics are: loss,accuracy,val_loss,val_accuracy\n"
     ]
    },
    {
     "name": "stderr",
     "output_type": "stream",
     "text": [
      "WARNING:tensorflow:Early stopping conditioned on metric `val_acc` which is not available. Available metrics are: loss,accuracy,val_loss,val_accuracy\n"
     ]
    },
    {
     "name": "stdout",
     "output_type": "stream",
     "text": [
      "235/235 [==============================] - 20s 85ms/step - loss: 0.0241 - accuracy: 0.9908 - val_loss: 1.3742 - val_accuracy: 0.8520\n",
      "Epoch 43/100\n",
      "235/235 [==============================] - ETA: 0s - loss: 0.0191 - accuracy: 0.9932WARNING:tensorflow:Early stopping conditioned on metric `val_acc` which is not available. Available metrics are: loss,accuracy,val_loss,val_accuracy\n"
     ]
    },
    {
     "name": "stderr",
     "output_type": "stream",
     "text": [
      "WARNING:tensorflow:Early stopping conditioned on metric `val_acc` which is not available. Available metrics are: loss,accuracy,val_loss,val_accuracy\n"
     ]
    },
    {
     "name": "stdout",
     "output_type": "stream",
     "text": [
      "235/235 [==============================] - 33s 138ms/step - loss: 0.0191 - accuracy: 0.9932 - val_loss: 1.5481 - val_accuracy: 0.8547\n",
      "Epoch 44/100\n",
      "235/235 [==============================] - ETA: 0s - loss: 0.0239 - accuracy: 0.9919WARNING:tensorflow:Early stopping conditioned on metric `val_acc` which is not available. Available metrics are: loss,accuracy,val_loss,val_accuracy\n"
     ]
    },
    {
     "name": "stderr",
     "output_type": "stream",
     "text": [
      "WARNING:tensorflow:Early stopping conditioned on metric `val_acc` which is not available. Available metrics are: loss,accuracy,val_loss,val_accuracy\n"
     ]
    },
    {
     "name": "stdout",
     "output_type": "stream",
     "text": [
      "235/235 [==============================] - 20s 86ms/step - loss: 0.0239 - accuracy: 0.9919 - val_loss: 1.4819 - val_accuracy: 0.8494\n",
      "Epoch 45/100\n",
      "235/235 [==============================] - ETA: 0s - loss: 0.0215 - accuracy: 0.9919WARNING:tensorflow:Early stopping conditioned on metric `val_acc` which is not available. Available metrics are: loss,accuracy,val_loss,val_accuracy\n"
     ]
    },
    {
     "name": "stderr",
     "output_type": "stream",
     "text": [
      "WARNING:tensorflow:Early stopping conditioned on metric `val_acc` which is not available. Available metrics are: loss,accuracy,val_loss,val_accuracy\n"
     ]
    },
    {
     "name": "stdout",
     "output_type": "stream",
     "text": [
      "235/235 [==============================] - 20s 86ms/step - loss: 0.0215 - accuracy: 0.9919 - val_loss: 1.3597 - val_accuracy: 0.8526\n",
      "Epoch 46/100\n",
      "235/235 [==============================] - ETA: 0s - loss: 0.0211 - accuracy: 0.9929WARNING:tensorflow:Early stopping conditioned on metric `val_acc` which is not available. Available metrics are: loss,accuracy,val_loss,val_accuracy\n"
     ]
    },
    {
     "name": "stderr",
     "output_type": "stream",
     "text": [
      "WARNING:tensorflow:Early stopping conditioned on metric `val_acc` which is not available. Available metrics are: loss,accuracy,val_loss,val_accuracy\n"
     ]
    },
    {
     "name": "stdout",
     "output_type": "stream",
     "text": [
      "235/235 [==============================] - 20s 86ms/step - loss: 0.0211 - accuracy: 0.9929 - val_loss: 1.3289 - val_accuracy: 0.8536\n",
      "Epoch 47/100\n",
      "235/235 [==============================] - ETA: 0s - loss: 0.0212 - accuracy: 0.9933WARNING:tensorflow:Early stopping conditioned on metric `val_acc` which is not available. Available metrics are: loss,accuracy,val_loss,val_accuracy\n"
     ]
    },
    {
     "name": "stderr",
     "output_type": "stream",
     "text": [
      "WARNING:tensorflow:Early stopping conditioned on metric `val_acc` which is not available. Available metrics are: loss,accuracy,val_loss,val_accuracy\n"
     ]
    },
    {
     "name": "stdout",
     "output_type": "stream",
     "text": [
      "235/235 [==============================] - 33s 138ms/step - loss: 0.0212 - accuracy: 0.9933 - val_loss: 1.4110 - val_accuracy: 0.8558\n",
      "Epoch 48/100\n",
      "235/235 [==============================] - ETA: 0s - loss: 0.0207 - accuracy: 0.9927WARNING:tensorflow:Early stopping conditioned on metric `val_acc` which is not available. Available metrics are: loss,accuracy,val_loss,val_accuracy\n"
     ]
    },
    {
     "name": "stderr",
     "output_type": "stream",
     "text": [
      "WARNING:tensorflow:Early stopping conditioned on metric `val_acc` which is not available. Available metrics are: loss,accuracy,val_loss,val_accuracy\n"
     ]
    },
    {
     "name": "stdout",
     "output_type": "stream",
     "text": [
      "235/235 [==============================] - 20s 86ms/step - loss: 0.0207 - accuracy: 0.9927 - val_loss: 1.3832 - val_accuracy: 0.8515\n",
      "Epoch 49/100\n",
      "235/235 [==============================] - ETA: 0s - loss: 0.0168 - accuracy: 0.9945WARNING:tensorflow:Early stopping conditioned on metric `val_acc` which is not available. Available metrics are: loss,accuracy,val_loss,val_accuracy\n"
     ]
    },
    {
     "name": "stderr",
     "output_type": "stream",
     "text": [
      "WARNING:tensorflow:Early stopping conditioned on metric `val_acc` which is not available. Available metrics are: loss,accuracy,val_loss,val_accuracy\n"
     ]
    },
    {
     "name": "stdout",
     "output_type": "stream",
     "text": [
      "235/235 [==============================] - 20s 86ms/step - loss: 0.0168 - accuracy: 0.9945 - val_loss: 1.6747 - val_accuracy: 0.8542\n",
      "Epoch 50/100\n",
      "235/235 [==============================] - ETA: 0s - loss: 0.0191 - accuracy: 0.9925WARNING:tensorflow:Early stopping conditioned on metric `val_acc` which is not available. Available metrics are: loss,accuracy,val_loss,val_accuracy\n"
     ]
    },
    {
     "name": "stderr",
     "output_type": "stream",
     "text": [
      "WARNING:tensorflow:Early stopping conditioned on metric `val_acc` which is not available. Available metrics are: loss,accuracy,val_loss,val_accuracy\n"
     ]
    },
    {
     "name": "stdout",
     "output_type": "stream",
     "text": [
      "235/235 [==============================] - 20s 86ms/step - loss: 0.0191 - accuracy: 0.9925 - val_loss: 1.3967 - val_accuracy: 0.8499\n",
      "Epoch 51/100\n",
      "235/235 [==============================] - ETA: 0s - loss: 0.0185 - accuracy: 0.9927WARNING:tensorflow:Early stopping conditioned on metric `val_acc` which is not available. Available metrics are: loss,accuracy,val_loss,val_accuracy\n"
     ]
    },
    {
     "name": "stderr",
     "output_type": "stream",
     "text": [
      "WARNING:tensorflow:Early stopping conditioned on metric `val_acc` which is not available. Available metrics are: loss,accuracy,val_loss,val_accuracy\n"
     ]
    },
    {
     "name": "stdout",
     "output_type": "stream",
     "text": [
      "235/235 [==============================] - 20s 86ms/step - loss: 0.0185 - accuracy: 0.9927 - val_loss: 1.4787 - val_accuracy: 0.8536\n",
      "Epoch 52/100\n",
      "235/235 [==============================] - ETA: 0s - loss: 0.0166 - accuracy: 0.9939WARNING:tensorflow:Early stopping conditioned on metric `val_acc` which is not available. Available metrics are: loss,accuracy,val_loss,val_accuracy\n"
     ]
    },
    {
     "name": "stderr",
     "output_type": "stream",
     "text": [
      "WARNING:tensorflow:Early stopping conditioned on metric `val_acc` which is not available. Available metrics are: loss,accuracy,val_loss,val_accuracy\n"
     ]
    },
    {
     "name": "stdout",
     "output_type": "stream",
     "text": [
      "235/235 [==============================] - 20s 86ms/step - loss: 0.0166 - accuracy: 0.9939 - val_loss: 1.6172 - val_accuracy: 0.8510\n",
      "Epoch 53/100\n",
      "235/235 [==============================] - ETA: 0s - loss: 0.0164 - accuracy: 0.9939WARNING:tensorflow:Early stopping conditioned on metric `val_acc` which is not available. Available metrics are: loss,accuracy,val_loss,val_accuracy\n"
     ]
    },
    {
     "name": "stderr",
     "output_type": "stream",
     "text": [
      "WARNING:tensorflow:Early stopping conditioned on metric `val_acc` which is not available. Available metrics are: loss,accuracy,val_loss,val_accuracy\n"
     ]
    },
    {
     "name": "stdout",
     "output_type": "stream",
     "text": [
      "235/235 [==============================] - 20s 86ms/step - loss: 0.0164 - accuracy: 0.9939 - val_loss: 1.4720 - val_accuracy: 0.8526\n",
      "Epoch 54/100\n",
      "235/235 [==============================] - ETA: 0s - loss: 0.0178 - accuracy: 0.9940WARNING:tensorflow:Early stopping conditioned on metric `val_acc` which is not available. Available metrics are: loss,accuracy,val_loss,val_accuracy\n"
     ]
    },
    {
     "name": "stderr",
     "output_type": "stream",
     "text": [
      "WARNING:tensorflow:Early stopping conditioned on metric `val_acc` which is not available. Available metrics are: loss,accuracy,val_loss,val_accuracy\n"
     ]
    },
    {
     "name": "stdout",
     "output_type": "stream",
     "text": [
      "235/235 [==============================] - 20s 86ms/step - loss: 0.0178 - accuracy: 0.9940 - val_loss: 1.3995 - val_accuracy: 0.8478\n",
      "Epoch 55/100\n",
      "235/235 [==============================] - ETA: 0s - loss: 0.0190 - accuracy: 0.9945WARNING:tensorflow:Early stopping conditioned on metric `val_acc` which is not available. Available metrics are: loss,accuracy,val_loss,val_accuracy\n"
     ]
    },
    {
     "name": "stderr",
     "output_type": "stream",
     "text": [
      "WARNING:tensorflow:Early stopping conditioned on metric `val_acc` which is not available. Available metrics are: loss,accuracy,val_loss,val_accuracy\n"
     ]
    },
    {
     "name": "stdout",
     "output_type": "stream",
     "text": [
      "235/235 [==============================] - 20s 86ms/step - loss: 0.0190 - accuracy: 0.9945 - val_loss: 1.4016 - val_accuracy: 0.8467\n",
      "Epoch 56/100\n",
      "235/235 [==============================] - ETA: 0s - loss: 0.0195 - accuracy: 0.9931WARNING:tensorflow:Early stopping conditioned on metric `val_acc` which is not available. Available metrics are: loss,accuracy,val_loss,val_accuracy\n"
     ]
    },
    {
     "name": "stderr",
     "output_type": "stream",
     "text": [
      "WARNING:tensorflow:Early stopping conditioned on metric `val_acc` which is not available. Available metrics are: loss,accuracy,val_loss,val_accuracy\n"
     ]
    },
    {
     "name": "stdout",
     "output_type": "stream",
     "text": [
      "235/235 [==============================] - 20s 86ms/step - loss: 0.0195 - accuracy: 0.9931 - val_loss: 1.4527 - val_accuracy: 0.8515\n",
      "Epoch 57/100\n",
      "235/235 [==============================] - ETA: 0s - loss: 0.0131 - accuracy: 0.9956WARNING:tensorflow:Early stopping conditioned on metric `val_acc` which is not available. Available metrics are: loss,accuracy,val_loss,val_accuracy\n"
     ]
    },
    {
     "name": "stderr",
     "output_type": "stream",
     "text": [
      "WARNING:tensorflow:Early stopping conditioned on metric `val_acc` which is not available. Available metrics are: loss,accuracy,val_loss,val_accuracy\n"
     ]
    },
    {
     "name": "stdout",
     "output_type": "stream",
     "text": [
      "235/235 [==============================] - 20s 86ms/step - loss: 0.0131 - accuracy: 0.9956 - val_loss: 1.6130 - val_accuracy: 0.8558\n",
      "Epoch 58/100\n",
      "235/235 [==============================] - ETA: 0s - loss: 0.0161 - accuracy: 0.9943WARNING:tensorflow:Early stopping conditioned on metric `val_acc` which is not available. Available metrics are: loss,accuracy,val_loss,val_accuracy\n"
     ]
    },
    {
     "name": "stderr",
     "output_type": "stream",
     "text": [
      "WARNING:tensorflow:Early stopping conditioned on metric `val_acc` which is not available. Available metrics are: loss,accuracy,val_loss,val_accuracy\n"
     ]
    },
    {
     "name": "stdout",
     "output_type": "stream",
     "text": [
      "235/235 [==============================] - 20s 86ms/step - loss: 0.0161 - accuracy: 0.9943 - val_loss: 1.4190 - val_accuracy: 0.8536\n",
      "Epoch 59/100\n",
      "235/235 [==============================] - ETA: 0s - loss: 0.0130 - accuracy: 0.9947WARNING:tensorflow:Early stopping conditioned on metric `val_acc` which is not available. Available metrics are: loss,accuracy,val_loss,val_accuracy\n"
     ]
    },
    {
     "name": "stderr",
     "output_type": "stream",
     "text": [
      "WARNING:tensorflow:Early stopping conditioned on metric `val_acc` which is not available. Available metrics are: loss,accuracy,val_loss,val_accuracy\n"
     ]
    },
    {
     "name": "stdout",
     "output_type": "stream",
     "text": [
      "235/235 [==============================] - 20s 86ms/step - loss: 0.0130 - accuracy: 0.9947 - val_loss: 1.5827 - val_accuracy: 0.8542\n",
      "Epoch 60/100\n",
      "235/235 [==============================] - ETA: 0s - loss: 0.0103 - accuracy: 0.9961WARNING:tensorflow:Early stopping conditioned on metric `val_acc` which is not available. Available metrics are: loss,accuracy,val_loss,val_accuracy\n"
     ]
    },
    {
     "name": "stderr",
     "output_type": "stream",
     "text": [
      "WARNING:tensorflow:Early stopping conditioned on metric `val_acc` which is not available. Available metrics are: loss,accuracy,val_loss,val_accuracy\n"
     ]
    },
    {
     "name": "stdout",
     "output_type": "stream",
     "text": [
      "235/235 [==============================] - 20s 86ms/step - loss: 0.0103 - accuracy: 0.9961 - val_loss: 1.6978 - val_accuracy: 0.8505\n",
      "Epoch 61/100\n",
      "235/235 [==============================] - ETA: 0s - loss: 0.0151 - accuracy: 0.9940WARNING:tensorflow:Early stopping conditioned on metric `val_acc` which is not available. Available metrics are: loss,accuracy,val_loss,val_accuracy\n"
     ]
    },
    {
     "name": "stderr",
     "output_type": "stream",
     "text": [
      "WARNING:tensorflow:Early stopping conditioned on metric `val_acc` which is not available. Available metrics are: loss,accuracy,val_loss,val_accuracy\n"
     ]
    },
    {
     "name": "stdout",
     "output_type": "stream",
     "text": [
      "235/235 [==============================] - 20s 86ms/step - loss: 0.0151 - accuracy: 0.9940 - val_loss: 1.4408 - val_accuracy: 0.8494\n",
      "Epoch 62/100\n",
      "235/235 [==============================] - ETA: 0s - loss: 0.0087 - accuracy: 0.9971WARNING:tensorflow:Early stopping conditioned on metric `val_acc` which is not available. Available metrics are: loss,accuracy,val_loss,val_accuracy\n"
     ]
    },
    {
     "name": "stderr",
     "output_type": "stream",
     "text": [
      "WARNING:tensorflow:Early stopping conditioned on metric `val_acc` which is not available. Available metrics are: loss,accuracy,val_loss,val_accuracy\n"
     ]
    },
    {
     "name": "stdout",
     "output_type": "stream",
     "text": [
      "235/235 [==============================] - 20s 86ms/step - loss: 0.0087 - accuracy: 0.9971 - val_loss: 1.5714 - val_accuracy: 0.8531\n",
      "Epoch 63/100\n",
      "235/235 [==============================] - ETA: 0s - loss: 0.0142 - accuracy: 0.9953WARNING:tensorflow:Early stopping conditioned on metric `val_acc` which is not available. Available metrics are: loss,accuracy,val_loss,val_accuracy\n"
     ]
    },
    {
     "name": "stderr",
     "output_type": "stream",
     "text": [
      "WARNING:tensorflow:Early stopping conditioned on metric `val_acc` which is not available. Available metrics are: loss,accuracy,val_loss,val_accuracy\n"
     ]
    },
    {
     "name": "stdout",
     "output_type": "stream",
     "text": [
      "235/235 [==============================] - 20s 86ms/step - loss: 0.0142 - accuracy: 0.9953 - val_loss: 1.5059 - val_accuracy: 0.8483\n",
      "Epoch 64/100\n",
      "235/235 [==============================] - ETA: 0s - loss: 0.0129 - accuracy: 0.9956WARNING:tensorflow:Early stopping conditioned on metric `val_acc` which is not available. Available metrics are: loss,accuracy,val_loss,val_accuracy\n"
     ]
    },
    {
     "name": "stderr",
     "output_type": "stream",
     "text": [
      "WARNING:tensorflow:Early stopping conditioned on metric `val_acc` which is not available. Available metrics are: loss,accuracy,val_loss,val_accuracy\n"
     ]
    },
    {
     "name": "stdout",
     "output_type": "stream",
     "text": [
      "235/235 [==============================] - 20s 86ms/step - loss: 0.0129 - accuracy: 0.9956 - val_loss: 1.6260 - val_accuracy: 0.8531\n",
      "Epoch 65/100\n",
      "235/235 [==============================] - ETA: 0s - loss: 0.0127 - accuracy: 0.9951WARNING:tensorflow:Early stopping conditioned on metric `val_acc` which is not available. Available metrics are: loss,accuracy,val_loss,val_accuracy\n"
     ]
    },
    {
     "name": "stderr",
     "output_type": "stream",
     "text": [
      "WARNING:tensorflow:Early stopping conditioned on metric `val_acc` which is not available. Available metrics are: loss,accuracy,val_loss,val_accuracy\n"
     ]
    },
    {
     "name": "stdout",
     "output_type": "stream",
     "text": [
      "235/235 [==============================] - 20s 86ms/step - loss: 0.0127 - accuracy: 0.9951 - val_loss: 1.5162 - val_accuracy: 0.8536\n",
      "Epoch 66/100\n",
      "235/235 [==============================] - ETA: 0s - loss: 0.0107 - accuracy: 0.9967WARNING:tensorflow:Early stopping conditioned on metric `val_acc` which is not available. Available metrics are: loss,accuracy,val_loss,val_accuracy\n"
     ]
    },
    {
     "name": "stderr",
     "output_type": "stream",
     "text": [
      "WARNING:tensorflow:Early stopping conditioned on metric `val_acc` which is not available. Available metrics are: loss,accuracy,val_loss,val_accuracy\n"
     ]
    },
    {
     "name": "stdout",
     "output_type": "stream",
     "text": [
      "235/235 [==============================] - 20s 86ms/step - loss: 0.0107 - accuracy: 0.9967 - val_loss: 1.6657 - val_accuracy: 0.8547\n",
      "Epoch 67/100\n",
      "235/235 [==============================] - ETA: 0s - loss: 0.0113 - accuracy: 0.9960WARNING:tensorflow:Early stopping conditioned on metric `val_acc` which is not available. Available metrics are: loss,accuracy,val_loss,val_accuracy\n"
     ]
    },
    {
     "name": "stderr",
     "output_type": "stream",
     "text": [
      "WARNING:tensorflow:Early stopping conditioned on metric `val_acc` which is not available. Available metrics are: loss,accuracy,val_loss,val_accuracy\n"
     ]
    },
    {
     "name": "stdout",
     "output_type": "stream",
     "text": [
      "235/235 [==============================] - 20s 86ms/step - loss: 0.0113 - accuracy: 0.9960 - val_loss: 1.4284 - val_accuracy: 0.8510\n",
      "Epoch 68/100\n",
      "235/235 [==============================] - ETA: 0s - loss: 0.0111 - accuracy: 0.9955WARNING:tensorflow:Early stopping conditioned on metric `val_acc` which is not available. Available metrics are: loss,accuracy,val_loss,val_accuracy\n"
     ]
    },
    {
     "name": "stderr",
     "output_type": "stream",
     "text": [
      "WARNING:tensorflow:Early stopping conditioned on metric `val_acc` which is not available. Available metrics are: loss,accuracy,val_loss,val_accuracy\n"
     ]
    },
    {
     "name": "stdout",
     "output_type": "stream",
     "text": [
      "235/235 [==============================] - 20s 86ms/step - loss: 0.0111 - accuracy: 0.9955 - val_loss: 1.7109 - val_accuracy: 0.8536\n",
      "Epoch 69/100\n",
      "235/235 [==============================] - ETA: 0s - loss: 0.0097 - accuracy: 0.9959WARNING:tensorflow:Early stopping conditioned on metric `val_acc` which is not available. Available metrics are: loss,accuracy,val_loss,val_accuracy\n"
     ]
    },
    {
     "name": "stderr",
     "output_type": "stream",
     "text": [
      "WARNING:tensorflow:Early stopping conditioned on metric `val_acc` which is not available. Available metrics are: loss,accuracy,val_loss,val_accuracy\n"
     ]
    },
    {
     "name": "stdout",
     "output_type": "stream",
     "text": [
      "235/235 [==============================] - 20s 86ms/step - loss: 0.0097 - accuracy: 0.9959 - val_loss: 1.7033 - val_accuracy: 0.8520\n",
      "Epoch 70/100\n",
      "235/235 [==============================] - ETA: 0s - loss: 0.0108 - accuracy: 0.9960WARNING:tensorflow:Early stopping conditioned on metric `val_acc` which is not available. Available metrics are: loss,accuracy,val_loss,val_accuracy\n"
     ]
    },
    {
     "name": "stderr",
     "output_type": "stream",
     "text": [
      "WARNING:tensorflow:Early stopping conditioned on metric `val_acc` which is not available. Available metrics are: loss,accuracy,val_loss,val_accuracy\n"
     ]
    },
    {
     "name": "stdout",
     "output_type": "stream",
     "text": [
      "235/235 [==============================] - 20s 86ms/step - loss: 0.0108 - accuracy: 0.9960 - val_loss: 1.8336 - val_accuracy: 0.8505\n",
      "Epoch 71/100\n",
      "235/235 [==============================] - ETA: 0s - loss: 0.0129 - accuracy: 0.9956WARNING:tensorflow:Early stopping conditioned on metric `val_acc` which is not available. Available metrics are: loss,accuracy,val_loss,val_accuracy\n"
     ]
    },
    {
     "name": "stderr",
     "output_type": "stream",
     "text": [
      "WARNING:tensorflow:Early stopping conditioned on metric `val_acc` which is not available. Available metrics are: loss,accuracy,val_loss,val_accuracy\n"
     ]
    },
    {
     "name": "stdout",
     "output_type": "stream",
     "text": [
      "235/235 [==============================] - 20s 86ms/step - loss: 0.0129 - accuracy: 0.9956 - val_loss: 1.7194 - val_accuracy: 0.8558\n",
      "Epoch 72/100\n",
      "235/235 [==============================] - ETA: 0s - loss: 0.0109 - accuracy: 0.9965WARNING:tensorflow:Early stopping conditioned on metric `val_acc` which is not available. Available metrics are: loss,accuracy,val_loss,val_accuracy\n"
     ]
    },
    {
     "name": "stderr",
     "output_type": "stream",
     "text": [
      "WARNING:tensorflow:Early stopping conditioned on metric `val_acc` which is not available. Available metrics are: loss,accuracy,val_loss,val_accuracy\n"
     ]
    },
    {
     "name": "stdout",
     "output_type": "stream",
     "text": [
      "235/235 [==============================] - 20s 86ms/step - loss: 0.0109 - accuracy: 0.9965 - val_loss: 1.5673 - val_accuracy: 0.8536\n",
      "Epoch 73/100\n",
      "235/235 [==============================] - ETA: 0s - loss: 0.0119 - accuracy: 0.9960WARNING:tensorflow:Early stopping conditioned on metric `val_acc` which is not available. Available metrics are: loss,accuracy,val_loss,val_accuracy\n"
     ]
    },
    {
     "name": "stderr",
     "output_type": "stream",
     "text": [
      "WARNING:tensorflow:Early stopping conditioned on metric `val_acc` which is not available. Available metrics are: loss,accuracy,val_loss,val_accuracy\n"
     ]
    },
    {
     "name": "stdout",
     "output_type": "stream",
     "text": [
      "235/235 [==============================] - 20s 86ms/step - loss: 0.0119 - accuracy: 0.9960 - val_loss: 1.5570 - val_accuracy: 0.8526\n",
      "Epoch 74/100\n",
      "235/235 [==============================] - ETA: 0s - loss: 0.0133 - accuracy: 0.9952WARNING:tensorflow:Early stopping conditioned on metric `val_acc` which is not available. Available metrics are: loss,accuracy,val_loss,val_accuracy\n"
     ]
    },
    {
     "name": "stderr",
     "output_type": "stream",
     "text": [
      "WARNING:tensorflow:Early stopping conditioned on metric `val_acc` which is not available. Available metrics are: loss,accuracy,val_loss,val_accuracy\n"
     ]
    },
    {
     "name": "stdout",
     "output_type": "stream",
     "text": [
      "235/235 [==============================] - 20s 86ms/step - loss: 0.0133 - accuracy: 0.9952 - val_loss: 1.6600 - val_accuracy: 0.8526\n",
      "Epoch 75/100\n",
      "235/235 [==============================] - ETA: 0s - loss: 0.0127 - accuracy: 0.9953WARNING:tensorflow:Early stopping conditioned on metric `val_acc` which is not available. Available metrics are: loss,accuracy,val_loss,val_accuracy\n"
     ]
    },
    {
     "name": "stderr",
     "output_type": "stream",
     "text": [
      "WARNING:tensorflow:Early stopping conditioned on metric `val_acc` which is not available. Available metrics are: loss,accuracy,val_loss,val_accuracy\n"
     ]
    },
    {
     "name": "stdout",
     "output_type": "stream",
     "text": [
      "235/235 [==============================] - 20s 86ms/step - loss: 0.0127 - accuracy: 0.9953 - val_loss: 1.6712 - val_accuracy: 0.8515\n",
      "Epoch 76/100\n",
      "235/235 [==============================] - ETA: 0s - loss: 0.0143 - accuracy: 0.9955WARNING:tensorflow:Early stopping conditioned on metric `val_acc` which is not available. Available metrics are: loss,accuracy,val_loss,val_accuracy\n"
     ]
    },
    {
     "name": "stderr",
     "output_type": "stream",
     "text": [
      "WARNING:tensorflow:Early stopping conditioned on metric `val_acc` which is not available. Available metrics are: loss,accuracy,val_loss,val_accuracy\n"
     ]
    },
    {
     "name": "stdout",
     "output_type": "stream",
     "text": [
      "235/235 [==============================] - 20s 86ms/step - loss: 0.0143 - accuracy: 0.9955 - val_loss: 1.6924 - val_accuracy: 0.8542\n",
      "Epoch 77/100\n",
      "235/235 [==============================] - ETA: 0s - loss: 0.0072 - accuracy: 0.9975WARNING:tensorflow:Early stopping conditioned on metric `val_acc` which is not available. Available metrics are: loss,accuracy,val_loss,val_accuracy\n"
     ]
    },
    {
     "name": "stderr",
     "output_type": "stream",
     "text": [
      "WARNING:tensorflow:Early stopping conditioned on metric `val_acc` which is not available. Available metrics are: loss,accuracy,val_loss,val_accuracy\n"
     ]
    },
    {
     "name": "stdout",
     "output_type": "stream",
     "text": [
      "235/235 [==============================] - 20s 86ms/step - loss: 0.0072 - accuracy: 0.9975 - val_loss: 1.6781 - val_accuracy: 0.8552\n",
      "Epoch 78/100\n",
      "235/235 [==============================] - ETA: 0s - loss: 0.0095 - accuracy: 0.9967WARNING:tensorflow:Early stopping conditioned on metric `val_acc` which is not available. Available metrics are: loss,accuracy,val_loss,val_accuracy\n"
     ]
    },
    {
     "name": "stderr",
     "output_type": "stream",
     "text": [
      "WARNING:tensorflow:Early stopping conditioned on metric `val_acc` which is not available. Available metrics are: loss,accuracy,val_loss,val_accuracy\n"
     ]
    },
    {
     "name": "stdout",
     "output_type": "stream",
     "text": [
      "235/235 [==============================] - 20s 86ms/step - loss: 0.0095 - accuracy: 0.9967 - val_loss: 1.5828 - val_accuracy: 0.8552\n",
      "Epoch 79/100\n",
      "235/235 [==============================] - ETA: 0s - loss: 0.0118 - accuracy: 0.9960WARNING:tensorflow:Early stopping conditioned on metric `val_acc` which is not available. Available metrics are: loss,accuracy,val_loss,val_accuracy\n"
     ]
    },
    {
     "name": "stderr",
     "output_type": "stream",
     "text": [
      "WARNING:tensorflow:Early stopping conditioned on metric `val_acc` which is not available. Available metrics are: loss,accuracy,val_loss,val_accuracy\n"
     ]
    },
    {
     "name": "stdout",
     "output_type": "stream",
     "text": [
      "235/235 [==============================] - 20s 86ms/step - loss: 0.0118 - accuracy: 0.9960 - val_loss: 1.6287 - val_accuracy: 0.8510\n",
      "Epoch 80/100\n",
      "235/235 [==============================] - ETA: 0s - loss: 0.0113 - accuracy: 0.9951WARNING:tensorflow:Early stopping conditioned on metric `val_acc` which is not available. Available metrics are: loss,accuracy,val_loss,val_accuracy\n"
     ]
    },
    {
     "name": "stderr",
     "output_type": "stream",
     "text": [
      "WARNING:tensorflow:Early stopping conditioned on metric `val_acc` which is not available. Available metrics are: loss,accuracy,val_loss,val_accuracy\n"
     ]
    },
    {
     "name": "stdout",
     "output_type": "stream",
     "text": [
      "235/235 [==============================] - 33s 139ms/step - loss: 0.0113 - accuracy: 0.9951 - val_loss: 1.5571 - val_accuracy: 0.8579\n",
      "Epoch 81/100\n",
      "235/235 [==============================] - ETA: 0s - loss: 0.0056 - accuracy: 0.9976WARNING:tensorflow:Early stopping conditioned on metric `val_acc` which is not available. Available metrics are: loss,accuracy,val_loss,val_accuracy\n"
     ]
    },
    {
     "name": "stderr",
     "output_type": "stream",
     "text": [
      "WARNING:tensorflow:Early stopping conditioned on metric `val_acc` which is not available. Available metrics are: loss,accuracy,val_loss,val_accuracy\n"
     ]
    },
    {
     "name": "stdout",
     "output_type": "stream",
     "text": [
      "235/235 [==============================] - 32s 138ms/step - loss: 0.0056 - accuracy: 0.9976 - val_loss: 1.6297 - val_accuracy: 0.8584\n",
      "Epoch 82/100\n",
      "235/235 [==============================] - ETA: 0s - loss: 0.0155 - accuracy: 0.9952WARNING:tensorflow:Early stopping conditioned on metric `val_acc` which is not available. Available metrics are: loss,accuracy,val_loss,val_accuracy\n"
     ]
    },
    {
     "name": "stderr",
     "output_type": "stream",
     "text": [
      "WARNING:tensorflow:Early stopping conditioned on metric `val_acc` which is not available. Available metrics are: loss,accuracy,val_loss,val_accuracy\n"
     ]
    },
    {
     "name": "stdout",
     "output_type": "stream",
     "text": [
      "235/235 [==============================] - 20s 86ms/step - loss: 0.0155 - accuracy: 0.9952 - val_loss: 1.8007 - val_accuracy: 0.8505\n",
      "Epoch 83/100\n",
      "235/235 [==============================] - ETA: 0s - loss: 0.0120 - accuracy: 0.9965WARNING:tensorflow:Early stopping conditioned on metric `val_acc` which is not available. Available metrics are: loss,accuracy,val_loss,val_accuracy\n"
     ]
    },
    {
     "name": "stderr",
     "output_type": "stream",
     "text": [
      "WARNING:tensorflow:Early stopping conditioned on metric `val_acc` which is not available. Available metrics are: loss,accuracy,val_loss,val_accuracy\n"
     ]
    },
    {
     "name": "stdout",
     "output_type": "stream",
     "text": [
      "235/235 [==============================] - 20s 86ms/step - loss: 0.0120 - accuracy: 0.9965 - val_loss: 1.5083 - val_accuracy: 0.8558\n",
      "Epoch 84/100\n",
      "235/235 [==============================] - ETA: 0s - loss: 0.0113 - accuracy: 0.9963WARNING:tensorflow:Early stopping conditioned on metric `val_acc` which is not available. Available metrics are: loss,accuracy,val_loss,val_accuracy\n"
     ]
    },
    {
     "name": "stderr",
     "output_type": "stream",
     "text": [
      "WARNING:tensorflow:Early stopping conditioned on metric `val_acc` which is not available. Available metrics are: loss,accuracy,val_loss,val_accuracy\n"
     ]
    },
    {
     "name": "stdout",
     "output_type": "stream",
     "text": [
      "235/235 [==============================] - 20s 86ms/step - loss: 0.0113 - accuracy: 0.9963 - val_loss: 1.6819 - val_accuracy: 0.8536\n",
      "Epoch 85/100\n",
      "235/235 [==============================] - ETA: 0s - loss: 0.0107 - accuracy: 0.9959WARNING:tensorflow:Early stopping conditioned on metric `val_acc` which is not available. Available metrics are: loss,accuracy,val_loss,val_accuracy\n"
     ]
    },
    {
     "name": "stderr",
     "output_type": "stream",
     "text": [
      "WARNING:tensorflow:Early stopping conditioned on metric `val_acc` which is not available. Available metrics are: loss,accuracy,val_loss,val_accuracy\n"
     ]
    },
    {
     "name": "stdout",
     "output_type": "stream",
     "text": [
      "235/235 [==============================] - 20s 86ms/step - loss: 0.0107 - accuracy: 0.9959 - val_loss: 1.5390 - val_accuracy: 0.8552\n",
      "Epoch 86/100\n",
      "235/235 [==============================] - ETA: 0s - loss: 0.0064 - accuracy: 0.9979WARNING:tensorflow:Early stopping conditioned on metric `val_acc` which is not available. Available metrics are: loss,accuracy,val_loss,val_accuracy\n"
     ]
    },
    {
     "name": "stderr",
     "output_type": "stream",
     "text": [
      "WARNING:tensorflow:Early stopping conditioned on metric `val_acc` which is not available. Available metrics are: loss,accuracy,val_loss,val_accuracy\n"
     ]
    },
    {
     "name": "stdout",
     "output_type": "stream",
     "text": [
      "235/235 [==============================] - 20s 86ms/step - loss: 0.0064 - accuracy: 0.9979 - val_loss: 1.7584 - val_accuracy: 0.8558\n",
      "Epoch 87/100\n",
      "235/235 [==============================] - ETA: 0s - loss: 0.0117 - accuracy: 0.9965WARNING:tensorflow:Early stopping conditioned on metric `val_acc` which is not available. Available metrics are: loss,accuracy,val_loss,val_accuracy\n"
     ]
    },
    {
     "name": "stderr",
     "output_type": "stream",
     "text": [
      "WARNING:tensorflow:Early stopping conditioned on metric `val_acc` which is not available. Available metrics are: loss,accuracy,val_loss,val_accuracy\n"
     ]
    },
    {
     "name": "stdout",
     "output_type": "stream",
     "text": [
      "235/235 [==============================] - 33s 139ms/step - loss: 0.0117 - accuracy: 0.9965 - val_loss: 1.5884 - val_accuracy: 0.8590\n",
      "Epoch 88/100\n",
      "235/235 [==============================] - ETA: 0s - loss: 0.0075 - accuracy: 0.9967WARNING:tensorflow:Early stopping conditioned on metric `val_acc` which is not available. Available metrics are: loss,accuracy,val_loss,val_accuracy\n"
     ]
    },
    {
     "name": "stderr",
     "output_type": "stream",
     "text": [
      "WARNING:tensorflow:Early stopping conditioned on metric `val_acc` which is not available. Available metrics are: loss,accuracy,val_loss,val_accuracy\n"
     ]
    },
    {
     "name": "stdout",
     "output_type": "stream",
     "text": [
      "235/235 [==============================] - 20s 86ms/step - loss: 0.0075 - accuracy: 0.9967 - val_loss: 1.6485 - val_accuracy: 0.8579\n",
      "Epoch 89/100\n",
      "235/235 [==============================] - ETA: 0s - loss: 0.0079 - accuracy: 0.9971WARNING:tensorflow:Early stopping conditioned on metric `val_acc` which is not available. Available metrics are: loss,accuracy,val_loss,val_accuracy\n"
     ]
    },
    {
     "name": "stderr",
     "output_type": "stream",
     "text": [
      "WARNING:tensorflow:Early stopping conditioned on metric `val_acc` which is not available. Available metrics are: loss,accuracy,val_loss,val_accuracy\n"
     ]
    },
    {
     "name": "stdout",
     "output_type": "stream",
     "text": [
      "235/235 [==============================] - 20s 86ms/step - loss: 0.0079 - accuracy: 0.9971 - val_loss: 1.7668 - val_accuracy: 0.8563\n",
      "Epoch 90/100\n",
      "235/235 [==============================] - ETA: 0s - loss: 0.0084 - accuracy: 0.9973WARNING:tensorflow:Early stopping conditioned on metric `val_acc` which is not available. Available metrics are: loss,accuracy,val_loss,val_accuracy\n"
     ]
    },
    {
     "name": "stderr",
     "output_type": "stream",
     "text": [
      "WARNING:tensorflow:Early stopping conditioned on metric `val_acc` which is not available. Available metrics are: loss,accuracy,val_loss,val_accuracy\n"
     ]
    },
    {
     "name": "stdout",
     "output_type": "stream",
     "text": [
      "235/235 [==============================] - 20s 86ms/step - loss: 0.0084 - accuracy: 0.9973 - val_loss: 1.7454 - val_accuracy: 0.8563\n",
      "Epoch 91/100\n",
      "235/235 [==============================] - ETA: 0s - loss: 0.0105 - accuracy: 0.9956WARNING:tensorflow:Early stopping conditioned on metric `val_acc` which is not available. Available metrics are: loss,accuracy,val_loss,val_accuracy\n"
     ]
    },
    {
     "name": "stderr",
     "output_type": "stream",
     "text": [
      "WARNING:tensorflow:Early stopping conditioned on metric `val_acc` which is not available. Available metrics are: loss,accuracy,val_loss,val_accuracy\n"
     ]
    },
    {
     "name": "stdout",
     "output_type": "stream",
     "text": [
      "235/235 [==============================] - 20s 86ms/step - loss: 0.0105 - accuracy: 0.9956 - val_loss: 1.5595 - val_accuracy: 0.8563\n",
      "Epoch 92/100\n",
      "235/235 [==============================] - ETA: 0s - loss: 0.0112 - accuracy: 0.9965WARNING:tensorflow:Early stopping conditioned on metric `val_acc` which is not available. Available metrics are: loss,accuracy,val_loss,val_accuracy\n"
     ]
    },
    {
     "name": "stderr",
     "output_type": "stream",
     "text": [
      "WARNING:tensorflow:Early stopping conditioned on metric `val_acc` which is not available. Available metrics are: loss,accuracy,val_loss,val_accuracy\n"
     ]
    },
    {
     "name": "stdout",
     "output_type": "stream",
     "text": [
      "235/235 [==============================] - 20s 86ms/step - loss: 0.0112 - accuracy: 0.9965 - val_loss: 1.7041 - val_accuracy: 0.8552\n",
      "Epoch 93/100\n",
      "235/235 [==============================] - ETA: 0s - loss: 0.0102 - accuracy: 0.9973WARNING:tensorflow:Early stopping conditioned on metric `val_acc` which is not available. Available metrics are: loss,accuracy,val_loss,val_accuracy\n"
     ]
    },
    {
     "name": "stderr",
     "output_type": "stream",
     "text": [
      "WARNING:tensorflow:Early stopping conditioned on metric `val_acc` which is not available. Available metrics are: loss,accuracy,val_loss,val_accuracy\n"
     ]
    },
    {
     "name": "stdout",
     "output_type": "stream",
     "text": [
      "235/235 [==============================] - 20s 86ms/step - loss: 0.0102 - accuracy: 0.9973 - val_loss: 1.6211 - val_accuracy: 0.8584\n",
      "Epoch 94/100\n",
      "235/235 [==============================] - ETA: 0s - loss: 0.0111 - accuracy: 0.9956WARNING:tensorflow:Early stopping conditioned on metric `val_acc` which is not available. Available metrics are: loss,accuracy,val_loss,val_accuracy\n"
     ]
    },
    {
     "name": "stderr",
     "output_type": "stream",
     "text": [
      "WARNING:tensorflow:Early stopping conditioned on metric `val_acc` which is not available. Available metrics are: loss,accuracy,val_loss,val_accuracy\n"
     ]
    },
    {
     "name": "stdout",
     "output_type": "stream",
     "text": [
      "235/235 [==============================] - 20s 86ms/step - loss: 0.0111 - accuracy: 0.9956 - val_loss: 1.6914 - val_accuracy: 0.8563\n",
      "Epoch 95/100\n",
      "235/235 [==============================] - ETA: 0s - loss: 0.0093 - accuracy: 0.9968WARNING:tensorflow:Early stopping conditioned on metric `val_acc` which is not available. Available metrics are: loss,accuracy,val_loss,val_accuracy\n"
     ]
    },
    {
     "name": "stderr",
     "output_type": "stream",
     "text": [
      "WARNING:tensorflow:Early stopping conditioned on metric `val_acc` which is not available. Available metrics are: loss,accuracy,val_loss,val_accuracy\n"
     ]
    },
    {
     "name": "stdout",
     "output_type": "stream",
     "text": [
      "235/235 [==============================] - 20s 86ms/step - loss: 0.0093 - accuracy: 0.9968 - val_loss: 1.4697 - val_accuracy: 0.8531\n",
      "Epoch 96/100\n",
      "235/235 [==============================] - ETA: 0s - loss: 0.0069 - accuracy: 0.9975WARNING:tensorflow:Early stopping conditioned on metric `val_acc` which is not available. Available metrics are: loss,accuracy,val_loss,val_accuracy\n"
     ]
    },
    {
     "name": "stderr",
     "output_type": "stream",
     "text": [
      "WARNING:tensorflow:Early stopping conditioned on metric `val_acc` which is not available. Available metrics are: loss,accuracy,val_loss,val_accuracy\n"
     ]
    },
    {
     "name": "stdout",
     "output_type": "stream",
     "text": [
      "235/235 [==============================] - 20s 86ms/step - loss: 0.0069 - accuracy: 0.9975 - val_loss: 1.6881 - val_accuracy: 0.8547\n",
      "Epoch 97/100\n",
      "235/235 [==============================] - ETA: 0s - loss: 0.0101 - accuracy: 0.9968WARNING:tensorflow:Early stopping conditioned on metric `val_acc` which is not available. Available metrics are: loss,accuracy,val_loss,val_accuracy\n"
     ]
    },
    {
     "name": "stderr",
     "output_type": "stream",
     "text": [
      "WARNING:tensorflow:Early stopping conditioned on metric `val_acc` which is not available. Available metrics are: loss,accuracy,val_loss,val_accuracy\n"
     ]
    },
    {
     "name": "stdout",
     "output_type": "stream",
     "text": [
      "235/235 [==============================] - 20s 86ms/step - loss: 0.0101 - accuracy: 0.9968 - val_loss: 1.5945 - val_accuracy: 0.8579\n",
      "Epoch 98/100\n",
      "235/235 [==============================] - ETA: 0s - loss: 0.0080 - accuracy: 0.9975WARNING:tensorflow:Early stopping conditioned on metric `val_acc` which is not available. Available metrics are: loss,accuracy,val_loss,val_accuracy\n"
     ]
    },
    {
     "name": "stderr",
     "output_type": "stream",
     "text": [
      "WARNING:tensorflow:Early stopping conditioned on metric `val_acc` which is not available. Available metrics are: loss,accuracy,val_loss,val_accuracy\n"
     ]
    },
    {
     "name": "stdout",
     "output_type": "stream",
     "text": [
      "235/235 [==============================] - 33s 138ms/step - loss: 0.0080 - accuracy: 0.9975 - val_loss: 1.6458 - val_accuracy: 0.8595\n",
      "Epoch 99/100\n",
      "235/235 [==============================] - ETA: 0s - loss: 0.0102 - accuracy: 0.9968WARNING:tensorflow:Early stopping conditioned on metric `val_acc` which is not available. Available metrics are: loss,accuracy,val_loss,val_accuracy\n"
     ]
    },
    {
     "name": "stderr",
     "output_type": "stream",
     "text": [
      "WARNING:tensorflow:Early stopping conditioned on metric `val_acc` which is not available. Available metrics are: loss,accuracy,val_loss,val_accuracy\n"
     ]
    },
    {
     "name": "stdout",
     "output_type": "stream",
     "text": [
      "235/235 [==============================] - 20s 86ms/step - loss: 0.0102 - accuracy: 0.9968 - val_loss: 1.5298 - val_accuracy: 0.8590\n",
      "Epoch 100/100\n",
      "235/235 [==============================] - ETA: 0s - loss: 0.0083 - accuracy: 0.9969WARNING:tensorflow:Early stopping conditioned on metric `val_acc` which is not available. Available metrics are: loss,accuracy,val_loss,val_accuracy\n"
     ]
    },
    {
     "name": "stderr",
     "output_type": "stream",
     "text": [
      "WARNING:tensorflow:Early stopping conditioned on metric `val_acc` which is not available. Available metrics are: loss,accuracy,val_loss,val_accuracy\n"
     ]
    },
    {
     "name": "stdout",
     "output_type": "stream",
     "text": [
      "235/235 [==============================] - 33s 138ms/step - loss: 0.0083 - accuracy: 0.9969 - val_loss: 1.5227 - val_accuracy: 0.8600\n"
     ]
    }
   ],
   "source": [
    "history = model.fit(x_train, y_train, batch_size=batch_size, epochs=epochs, validation_data=(x_val, y_val), callbacks=[early_stopping, model_checkpoint_callback])"
   ]
  },
  {
   "cell_type": "code",
   "execution_count": null,
   "metadata": {},
   "outputs": [],
   "source": [
    "# Plot the loss and accuracy curves for training and validation \n",
    "fig, ax = plt.subplots(2,1)\n",
    "ax[0].plot(history.history['loss'], color='b', label=\"Training loss\")\n",
    "ax[0].plot(history.history['val_loss'], color='r', label=\"validation loss\",axes =ax[0])\n",
    "legend = ax[0].legend(loc='best', shadow=True)\n",
    "\n",
    "ax[1].plot(history.history['accuracy'], color='b', label=\"Training accuracy\")\n",
    "ax[1].plot(history.history['val_accuracy'], color='r',label=\"Validation accuracy\")"
   ]
  },
  {
   "cell_type": "code",
   "execution_count": 15,
   "metadata": {},
   "outputs": [
    {
     "data": {
      "text/plain": [
       "<tensorflow.python.training.tracking.util.CheckpointLoadStatus at 0x244d4e94388>"
      ]
     },
     "execution_count": 15,
     "metadata": {},
     "output_type": "execute_result"
    }
   ],
   "source": [
    "model.load_weights(checkpoint_filepath)"
   ]
  },
  {
   "cell_type": "code",
   "execution_count": 3,
   "metadata": {},
   "outputs": [],
   "source": [
    "# def SRM(imgs):\n",
    "#     c=np.zeros((3,5,5))\n",
    "#     c[0]=[[-1,2,-2,2,-1],[2,-6,8,-6,2],[-2,8,-12,8,-2],[2,-6,8,-6,2],[-1,2,-2,2,-1]]\n",
    "#     c[0]=c[0]/12\n",
    "\n",
    "#     c[1][1][1]=-1\n",
    "#     c[1][1][2]=2\n",
    "#     c[1][1][3]=-1\n",
    "#     c[1][2][1]=2\n",
    "#     c[1][2][2]=-4\n",
    "#     c[1][2][3]=2\n",
    "#     c[1][3][1]=-1\n",
    "#     c[1][3][2]=2\n",
    "#     c[1][3][3]=-1\n",
    "#     c[1]=c[1]/4\n",
    "\n",
    "#     c[2][1][2]=1\n",
    "#     c[2][2][2]=-2\n",
    "#     c[2][3][2]=1\n",
    "#     c[2]=c[2]/2   \n",
    "\n",
    "#     Wcnn=np.zeros((5,5,3,3))\n",
    "#     for i in range(3):\n",
    "#         Wcnn[:,:,0,i]=c[i]\n",
    "#         Wcnn[:,:,1,i]=c[i]\n",
    "#         Wcnn[:,:,2,i]=c[i]\n",
    "\n",
    "#     imgs = np.array(imgs, dtype=float)\n",
    "#     input = tf.Variable(imgs, dtype=tf.float32)\n",
    "\n",
    "#     conv = tf.nn.conv2d(input, Wcnn, [1, 1, 1, 1], padding='SAME',name='srm')\n",
    "#     res = np.array(conv, dtype=float)\n",
    "#     return res"
   ]
  }
 ],
 "metadata": {
  "instance_type": "ml.g4dn.12xlarge",
  "kernelspec": {
   "display_name": "Python 3 (TensorFlow 2.3 Python 3.7 GPU Optimized)",
   "language": "python",
   "name": "python3__SAGEMAKER_INTERNAL__arn:aws:sagemaker:us-east-2:429704687514:image/tensorflow-2.3-gpu-py37-cu110-ubuntu18.04-v3"
  },
  "language_info": {
   "codemirror_mode": {
    "name": "ipython",
    "version": 3
   },
   "file_extension": ".py",
   "mimetype": "text/x-python",
   "name": "python",
   "nbconvert_exporter": "python",
   "pygments_lexer": "ipython3",
   "version": "3.7.10"
  },
  "metadata": {
   "interpreter": {
    "hash": "31aaf77f4ef1b20c95cd356702cf001ae279ac9168f3d41b4fe8c593a8672def"
   }
  }
 },
 "nbformat": 4,
 "nbformat_minor": 4
}
