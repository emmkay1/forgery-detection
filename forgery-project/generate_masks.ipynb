{
 "metadata": {
  "language_info": {
   "codemirror_mode": {
    "name": "ipython",
    "version": 3
   },
   "file_extension": ".py",
   "mimetype": "text/x-python",
   "name": "python",
   "nbconvert_exporter": "python",
   "pygments_lexer": "ipython3",
   "version": "3.7.4"
  },
  "orig_nbformat": 2,
  "kernelspec": {
   "name": "pythonjvsc74a57bd031aaf77f4ef1b20c95cd356702cf001ae279ac9168f3d41b4fe8c593a8672def",
   "display_name": "Python 3.7.4  ('fdenv': venv)"
  },
  "metadata": {
   "interpreter": {
    "hash": "31aaf77f4ef1b20c95cd356702cf001ae279ac9168f3d41b4fe8c593a8672def"
   }
  }
 },
 "nbformat": 4,
 "nbformat_minor": 2,
 "cells": [
  {
   "cell_type": "code",
   "execution_count": null,
   "metadata": {},
   "outputs": [],
   "source": [
    "import os\n",
    "from glob import glob\n",
    "import cv2\n",
    "import matplotlib.pyplot as plt\n",
    "import numpy as np\n",
    "from skimage.metrics import structural_similarity"
   ]
  },
  {
   "cell_type": "code",
   "execution_count": null,
   "metadata": {},
   "outputs": [],
   "source": [
    "def find_mask(sp_pic, au_pic_dict):\n",
    "    \"\"\"\n",
    "    Extracts and saves the mask (ground truth) for the given tampered image.\n",
    "    :param sp_pic: Tampered image\n",
    "    :param au_pic_dict: Dictionary with keys the name of the tampered image and values its path.\n",
    "    \"\"\"\n",
    "    try:\n",
    "        background_index = [13, 21]  # indices of background image in the tamoered image name\n",
    "        save_name = sp_pic.split(os.sep)[-1][:-4]  # name of the mask\n",
    "        sp_name = sp_pic.split(os.sep)[-1][background_index[0]:background_index[1]]\n",
    "        if sp_name in au_pic_dict.keys():\n",
    "            au_pic = au_pic_dict[sp_name]\n",
    "            au_image = plt.imread(au_pic)\n",
    "            sp_image = plt.imread(sp_pic)\n",
    "            if sp_image.shape == au_image.shape:\n",
    "                # convert images to grayscale\n",
    "                gray_au_image = cv2.cvtColor(au_image, cv2.COLOR_BGR2GRAY)\n",
    "                gray_sp_image = cv2.cvtColor(sp_image, cv2.COLOR_BGR2GRAY)\n",
    "                # get the difference of the 2 grayscale images\n",
    "                (_, diff) = structural_similarity(gray_au_image, gray_sp_image, full=True)\n",
    "                diff = cv2.medianBlur(diff, 1)\n",
    "                # make background black and tampered area white\n",
    "                mask = np.ones_like(diff)\n",
    "                mask[diff < 0.98] = 1\n",
    "                mask[diff >= 0.98] = 0\n",
    "                mask = (mask * 255).astype(\"uint8\")\n",
    "                cv2.imwrite('masks/' + save_name + '_gt.png', mask)\n",
    "    except:\n",
    "        print('Something Wrong with Image. Moving on!')"
   ]
  },
  {
   "cell_type": "code",
   "execution_count": null,
   "metadata": {},
   "outputs": [],
   "source": [
    "def extract_masks():\n",
    "    \"\"\"\n",
    "    Extracts and saves all the masks.\n",
    "    \"\"\"\n",
    "    # create the save directory\n",
    "    save_dir = 'example_masks'\n",
    "    if not os.path.exists(save_dir):\n",
    "        os.makedirs(save_dir)\n",
    "    # else:\n",
    "    #     delete_prev_images(save_dir)\n",
    "\n",
    "    # read the authentic and tampered images\n",
    "    au_pic_list = glob('dataset' + os.sep + 'train' + os.sep + 'Au' + os.sep + 'COCO_train2014_000000319266.jpg')\n",
    "    # glob('..' + os.sep + 'CASIA' + os.sep + 'CASIA2' + os.sep + 'Au' + os.sep + '*')\n",
    "\n",
    "    sp_pic_list = glob('dataset' + os.sep + 'train' + os.sep + 'Tp' + os.sep + 'Tp_24899_319266_99.24_76.86_480.01_293.67_train.png')\n",
    "    # glob('..' + os.sep + 'CASIA' + os.sep + 'CASIA2' + os.sep + 'Tp' + os.sep + '*')\n",
    "\n",
    "    au_index = [5, 10, 21, 33] #[3, 6, 7, 12]  # indices of authetic image name\n",
    "\n",
    "    # au_pic_dict = { au_pic.split(os.sep)[-1][au_index[0]:au_index[1]] + au_pic.split(os.sep)[-1][au_index[2]:au_index[3]]: au_pic for au_pic in au_pic_list}\n",
    "    au_pic_dict = {'train2014': au_pic_list[0]}\n",
    "    # extract the mask for every tampered image\n",
    "    for _, Sp_pic in enumerate(sp_pic_list):\n",
    "        find_mask(Sp_pic, au_pic_dict)"
   ]
  },
  {
   "cell_type": "code",
   "execution_count": null,
   "metadata": {},
   "outputs": [],
   "source": [
    "# if __name__ == '__main__':\n",
    "#     extract_masks()"
   ]
  },
  {
   "cell_type": "code",
   "execution_count": null,
   "metadata": {},
   "outputs": [],
   "source": [
    "au_pic_list = glob('..' + os.sep + 'CASIA' + os.sep + 'CASIA2' + os.sep + 'Au' + os.sep + '*')\n",
    "# glob('dataset' + os.sep + 'train' + os.sep + 'Au' + os.sep + 'COCO_train2014_000000319266.jpg')\n",
    "\n",
    "sp_pic_list = glob('..' + os.sep + 'CASIA' + os.sep + 'CASIA2' + os.sep + 'Tp' + os.sep + '*')\n",
    "# glob('dataset' + os.sep + 'train' + os.sep + 'Tp' + os.sep + 'Tp_24899_319266_99.24_76.86_480.01_293.67_train.png')\n",
    "\n",
    "au_index = [3, 6, 7, 12]  # indices of authetic image name\n",
    "\n",
    "au_pic_dict = { au_pic.split(os.sep)[-1][au_index[0]:au_index[1]] + au_pic.split(os.sep)[-1][au_index[2]:au_index[3]]: au_pic for au_pic in au_pic_list}"
   ]
  },
  {
   "cell_type": "code",
   "execution_count": null,
   "metadata": {},
   "outputs": [],
   "source": [
    "au_pic_dict"
   ]
  },
  {
   "cell_type": "code",
   "execution_count": null,
   "metadata": {
    "tags": [
     "outputPrepend"
    ]
   },
   "outputs": [],
   "source": [
    "for _, Sp_pic in enumerate(sp_pic_list):\n",
    "        print(Sp_pic)"
   ]
  },
  {
   "cell_type": "code",
   "execution_count": null,
   "metadata": {
    "tags": [
     "outputPrepend"
    ]
   },
   "outputs": [],
   "source": [
    "for _, sp_pic in enumerate(sp_pic_list):\n",
    "    print(sp_pic.split(os.sep)[-1][:-4])"
   ]
  },
  {
   "cell_type": "code",
   "execution_count": null,
   "metadata": {},
   "outputs": [],
   "source": [
    "au_pic_list[0].split(os.sep)"
   ]
  },
  {
   "cell_type": "code",
   "execution_count": null,
   "metadata": {},
   "outputs": [],
   "source": [
    "au_pic_list[0].split(os.sep)[-1]"
   ]
  },
  {
   "cell_type": "code",
   "execution_count": null,
   "metadata": {},
   "outputs": [],
   "source": [
    "au_pic_list[0].split(os.sep)[-1][au_index[0]:au_index[1]]"
   ]
  },
  {
   "cell_type": "code",
   "execution_count": null,
   "metadata": {},
   "outputs": [],
   "source": [
    "au_pic_dict"
   ]
  },
  {
   "cell_type": "code",
   "execution_count": null,
   "metadata": {},
   "outputs": [],
   "source": []
  }
 ]
}