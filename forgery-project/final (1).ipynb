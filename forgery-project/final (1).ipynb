{
 "cells": [
  {
   "cell_type": "code",
   "execution_count": 3,
   "metadata": {},
   "outputs": [
    {
     "name": "stdout",
     "output_type": "stream",
     "text": [
      "Collecting matplotlib\n",
      "  Using cached matplotlib-3.4.1-cp37-cp37m-manylinux1_x86_64.whl (10.3 MB)\n",
      "Collecting keract\n",
      "  Using cached keract-4.4.0-py2.py3-none-any.whl (12 kB)\n",
      "Requirement already satisfied: pyparsing>=2.2.1 in /usr/local/lib/python3.7/site-packages (from matplotlib) (2.4.7)\n",
      "Requirement already satisfied: numpy>=1.16 in /usr/local/lib/python3.7/site-packages (from matplotlib) (1.18.5)\n",
      "Requirement already satisfied: python-dateutil>=2.7 in /usr/local/lib/python3.7/site-packages (from matplotlib) (2.8.1)\n",
      "Requirement already satisfied: pillow>=6.2.0 in /usr/local/lib/python3.7/site-packages (from matplotlib) (7.2.0)\n",
      "Collecting kiwisolver>=1.0.1\n",
      "  Using cached kiwisolver-1.3.1-cp37-cp37m-manylinux1_x86_64.whl (1.1 MB)\n",
      "Collecting cycler>=0.10\n",
      "  Using cached cycler-0.10.0-py2.py3-none-any.whl (6.5 kB)\n",
      "Requirement already satisfied: six in /usr/local/lib/python3.7/site-packages (from cycler>=0.10->matplotlib) (1.15.0)\n",
      "Installing collected packages: kiwisolver, cycler, matplotlib, keract\n",
      "Successfully installed cycler-0.10.0 keract-4.4.0 kiwisolver-1.3.1 matplotlib-3.4.1\n",
      "Note: you may need to restart the kernel to use updated packages.\n"
     ]
    }
   ],
   "source": [
    "pip install matplotlib keract"
   ]
  },
  {
   "cell_type": "code",
   "execution_count": 3,
   "metadata": {},
   "outputs": [
    {
     "name": "stdout",
     "output_type": "stream",
     "text": [
      "Sat Apr 17 07:40:21 2021       \n",
      "+-----------------------------------------------------------------------------+\n",
      "| NVIDIA-SMI 450.80.02    Driver Version: 450.80.02    CUDA Version: 11.0     |\n",
      "|-------------------------------+----------------------+----------------------+\n",
      "| GPU  Name        Persistence-M| Bus-Id        Disp.A | Volatile Uncorr. ECC |\n",
      "| Fan  Temp  Perf  Pwr:Usage/Cap|         Memory-Usage | GPU-Util  Compute M. |\n",
      "|                               |                      |               MIG M. |\n",
      "|===============================+======================+======================|\n",
      "|   0  Tesla T4            Off  | 00000000:00:1E.0 Off |                    0 |\n",
      "| N/A   50C    P0    21W /  70W |      0MiB / 15109MiB |      0%      Default |\n",
      "|                               |                      |                  N/A |\n",
      "+-------------------------------+----------------------+----------------------+\n",
      "                                                                               \n",
      "+-----------------------------------------------------------------------------+\n",
      "| Processes:                                                                  |\n",
      "|  GPU   GI   CI        PID   Type   Process name                  GPU Memory |\n",
      "|        ID   ID                                                   Usage      |\n",
      "|=============================================================================|\n",
      "|  No running processes found                                                 |\n",
      "+-----------------------------------------------------------------------------+\n"
     ]
    }
   ],
   "source": [
    "!nvidia-smi"
   ]
  },
  {
   "cell_type": "code",
   "execution_count": 4,
   "metadata": {},
   "outputs": [],
   "source": [
    "import tensorflow as tf\n",
    "from tensorflow.keras.utils import to_categorical\n",
    "from tensorflow.keras.layers import Dense, Flatten, Conv2D, MaxPool2D, Dropout, BatchNormalization\n",
    "from tensorflow.keras.optimizers import Adam\n",
    "from tensorflow.keras.callbacks import EarlyStopping, ModelCheckpoint\n",
    "from tensorflow.keras.layers import Input\n",
    "# import tf_slim as slim\n",
    "\n",
    "from sklearn.model_selection import train_test_split\n",
    "from sklearn.metrics import confusion_matrix\n",
    "\n",
    "# import keract\n",
    "import numpy as np\n",
    "import matplotlib.pyplot as plt\n",
    "from PIL import Image\n",
    "import os\n",
    "import itertools\n",
    "import random\n",
    "%matplotlib inline\n",
    "np.random.seed(2)"
   ]
  },
  {
   "cell_type": "code",
   "execution_count": 5,
   "metadata": {},
   "outputs": [],
   "source": [
    "def SRM(imgs):\n",
    "    filter1 = [[0, 0, 0, 0, 0],\n",
    "               [0, -1, 2, -1, 0],\n",
    "               [0, 2, -4, 2, 0],\n",
    "               [0, -1, 2, -1, 0],\n",
    "               [0, 0, 0, 0, 0]]\n",
    "    filter2 = [[-1, 2, -2, 2, -1],\n",
    "               [2, -6, 8, -6, 2],\n",
    "               [-2, 8, -12, 8, -2],\n",
    "               [2, -6, 8, -6, 2],\n",
    "               [-1, 2, -2, 2, -1]]\n",
    "    filter3 = [[0, 0, 0, 0, 0],\n",
    "               [0, 0, 0, 0, 0],\n",
    "               [0, 1, -2, 1, 0],\n",
    "               [0, 0, 0, 0, 0],\n",
    "               [0, 0, 0, 0, 0]]\n",
    "    q = [4.0, 12.0, 2.0]\n",
    "    filter1 = np.asarray(filter1, dtype=float) / 4\n",
    "    filter2 = np.asarray(filter2, dtype=float) / 12\n",
    "    filter3 = np.asarray(filter3, dtype=float) / 2\n",
    "    filters = [[filter1, filter1, filter1], [filter2, filter2, filter2], [filter3, filter3, filter3]]\n",
    "    filters = np.einsum('klij->ijlk', filters)\n",
    "    filters = tf.Variable(filters, dtype=tf.float32)\n",
    "    imgs = np.array(imgs, dtype=float)\n",
    "    input = tf.Variable(imgs, dtype=tf.float32)\n",
    "    op = tf.nn.conv2d(input, filters, strides=[1, 1, 1, 1], padding='SAME')\n",
    "\n",
    "    q = [4.0, 12.0, 2.0]\n",
    "    filter1 = [[0, 0, 0, 0, 0],\n",
    "            [0, -1, 2, -1, 0],\n",
    "            [0, 2, -4, 2, 0],\n",
    "            [0, -1, 2, -1, 0],\n",
    "            [0, 0, 0, 0, 0]]\n",
    "    filter2 = [[-1, 2, -2, 2, -1],\n",
    "            [2, -6, 8, -6, 2],\n",
    "            [-2, 8, -12, 8, -2],\n",
    "            [2, -6, 8, -6, 2],\n",
    "            [-1, 2, -2, 2, -1]]\n",
    "    filter3 = [[0, 0, 0, 0, 0],\n",
    "            [0, 0, 0, 0, 0],\n",
    "            [0, 1, -2, 1, 0],\n",
    "            [0, 0, 0, 0, 0],\n",
    "            [0, 0, 0, 0, 0]]\n",
    "    filter1 = np.asarray(filter1, dtype=float) / q[0]\n",
    "    filter2 = np.asarray(filter2, dtype=float) / q[1]\n",
    "    filter3 = np.asarray(filter3, dtype=float) / q[2]\n",
    "    filters = [[filter1, filter1, filter1], [filter2, filter2, filter2], [filter3, filter3, filter3]]\n",
    "    filters = np.einsum('klij->ijlk', filters)\n",
    "    filters = filters.flatten()\n",
    "    imgs = np.array(imgs, dtype=float)\n",
    "    input = tf.Variable(imgs, dtype=tf.float32)\n",
    "    initializer_srm = tf.constant_initializer(filters)\n",
    "    def truncate_2(x):\n",
    "        neg = ((x + 2) + abs(x + 2)) / 2 - 2\n",
    "        return -(-neg+2 + abs(- neg+2)) / 2 + 2\n",
    "    op2 = slim.conv2d(input, 3, [5, 5], trainable=False, weights_initializer=initializer_srm, activation_fn=None, padding='SAME', stride=1, scope='srm')\n",
    "    op2 = truncate_2(op2)\n",
    "\n",
    "    res = np.round(op[0])\n",
    "    res[res > 2] = 2\n",
    "    res[res < -2] = -2\n",
    "\n",
    "    ress = np.array([res], dtype=float)\n",
    "    ress2 = np.array(op2, dtype=float)\n",
    "    return ress2"
   ]
  },
  {
   "cell_type": "code",
   "execution_count": 6,
   "metadata": {},
   "outputs": [],
   "source": [
    "def initializer():\n",
    "    # q = [4.0, 12.0, 2.0]\n",
    "    # filter1 = [[0, 0, 0, 0, 0],\n",
    "    #         [0, -1, 2, -1, 0],\n",
    "    #         [0, 2, -4, 2, 0],\n",
    "    #         [0, -1, 2, -1, 0],\n",
    "    #         [0, 0, 0, 0, 0]]\n",
    "    # filter2 = [[-1, 2, -2, 2, -1],\n",
    "    #         [2, -6, 8, -6, 2],\n",
    "    #         [-2, 8, -12, 8, -2],\n",
    "    #         [2, -6, 8, -6, 2],\n",
    "    #         [-1, 2, -2, 2, -1]]\n",
    "    # filter3 = [[0, 0, 0, 0, 0],\n",
    "    #         [0, 0, 0, 0, 0],\n",
    "    #         [0, 1, -2, 1, 0],\n",
    "    #         [0, 0, 0, 0, 0],\n",
    "    #         [0, 0, 0, 0, 0]]\n",
    "    # filter1 = np.asarray(filter1, dtype=float) / q[0]\n",
    "    # filter2 = np.asarray(filter2, dtype=float) / q[1]\n",
    "    # filter3 = np.asarray(filter3, dtype=float) / q[2]\n",
    "    # filters = [[filter1, filter1, filter1], [filter2, filter2, filter2], [filter3, filter3, filter3]]\n",
    "    # filters = np.einsum('klij->ijlk', filters)\n",
    "    # filters = filters.flatten()\n",
    "    # initializer_srm = tf.constant_initializer(filters)\n",
    "\n",
    "    filter1 = [[0, 0, 0, 0, 0],\n",
    "               [0, -1, 2, -1, 0],\n",
    "               [0, 2, -4, 2, 0],\n",
    "               [0, -1, 2, -1, 0],\n",
    "               [0, 0, 0, 0, 0]]\n",
    "    filter2 = [[-1, 2, -2, 2, -1],\n",
    "               [2, -6, 8, -6, 2],\n",
    "               [-2, 8, -12, 8, -2],\n",
    "               [2, -6, 8, -6, 2],\n",
    "               [-1, 2, -2, 2, -1]]\n",
    "    filter3 = [[0, 0, 0, 0, 0],\n",
    "               [0, 0, 0, 0, 0],\n",
    "               [0, 1, -2, 1, 0],\n",
    "               [0, 0, 0, 0, 0],\n",
    "               [0, 0, 0, 0, 0]]\n",
    "    filter1 = np.asarray(filter1, dtype=float) / 4\n",
    "    filter2 = np.asarray(filter2, dtype=float) / 12\n",
    "    filter3 = np.asarray(filter3, dtype=float) / 2\n",
    "    filters = [[filter1, filter1, filter1], [filter2, filter2, filter2], [filter3, filter3, filter3]]\n",
    "    filters = np.einsum('klij->ijlk', filters)\n",
    "    filters = tf.Variable(filters, dtype=tf.float32)\n",
    "    return filters"
   ]
  },
  {
   "cell_type": "code",
   "execution_count": 8,
   "metadata": {},
   "outputs": [],
   "source": [
    "h = 224\n",
    "w = 224\n",
    "image_size = (h, w)\n",
    "\n",
    "# np_arr = lambda img: img.resize(image_size).flatten() / 255.0\n",
    "np_arr = lambda img: np.array(img.resize(image_size)).flatten() / 255.0\n",
    "\n",
    "def prepare_image(image_path):\n",
    "    # img = Image.open(image_path)\n",
    "    # img = img.resize(image_size)\n",
    "    # img = np.asarray(img)\n",
    "    # imgs = np.array(img, dtype=float)\n",
    "    # input = tf.Variable(imgs, dtype=tf.float32)\n",
    "    return np_arr(Image.open(image_path))\n",
    "    # SRM([img])"
   ]
  },
  {
   "cell_type": "code",
   "execution_count": 9,
   "metadata": {},
   "outputs": [],
   "source": [
    "# img = prepare_image('./example_images/Tp_D_CNN_S_O_nat10153_ani00097_12135.jpg')\n",
    "# img.shape"
   ]
  },
  {
   "cell_type": "code",
   "execution_count": 10,
   "metadata": {},
   "outputs": [],
   "source": [
    "# img = Image.open('Tp_D_NNN_M_N_pla10121_cha00027_11669.jpg')\n",
    "# # img = np.asarray(img)\n",
    "# img = img.resize(image_size)\n",
    "# img = np.asarray(img) /255.0\n",
    "# img.shape"
   ]
  },
  {
   "cell_type": "code",
   "execution_count": 11,
   "metadata": {},
   "outputs": [],
   "source": [
    "# cat = prepare_image('./example_images/Tp_D_CNN_S_O_nat10153_ani00097_12135.jpg')\n",
    "# plt.imshow(cat[0])\n",
    "# # plt.show()\n",
    "# plt.axis('off')\n",
    "# plt.savefig(\"srm.png\", bbox_inches='tight', pad_inches=0)"
   ]
  },
  {
   "cell_type": "code",
   "execution_count": 12,
   "metadata": {},
   "outputs": [],
   "source": [
    "X = [] # SRM converted images\n",
    "Y = [] # 0 for fake, 1 for real"
   ]
  },
  {
   "cell_type": "code",
   "execution_count": 13,
   "metadata": {},
   "outputs": [],
   "source": [
    "def prepare_data(path, cls):\n",
    "    for dirname, _, filenames in os.walk(path):\n",
    "        for filename in filenames:\n",
    "            if filename.endswith('jpg') or filename.endswith('png'):\n",
    "                try:\n",
    "                    full_path = os.path.join(dirname, filename)\n",
    "                    X.append(prepare_image(full_path))\n",
    "                    Y.append(cls)\n",
    "                except:\n",
    "                    pass\n",
    "                if len(Y) % 500 == 0:\n",
    "                    print('Processing {} images'.format(len(Y)))"
   ]
  },
  {
   "cell_type": "code",
   "execution_count": null,
   "metadata": {
    "tags": []
   },
   "outputs": [
    {
     "name": "stdout",
     "output_type": "stream",
     "text": [
      "Processing 500 images\n"
     ]
    },
    {
     "name": "stderr",
     "output_type": "stream",
     "text": [
      "/usr/local/lib/python3.7/site-packages/PIL/TiffImagePlugin.py:766: UserWarning: Possibly corrupt EXIF data.  Expecting to read 8 bytes but only got 2. Skipping tag 41487\n",
      "  \" Skipping tag %s\" % (size, len(data), tag)\n",
      "/usr/local/lib/python3.7/site-packages/PIL/TiffImagePlugin.py:766: UserWarning: Possibly corrupt EXIF data.  Expecting to read 8 bytes but only got 0. Skipping tag 41988\n",
      "  \" Skipping tag %s\" % (size, len(data), tag)\n"
     ]
    },
    {
     "name": "stdout",
     "output_type": "stream",
     "text": [
      "Processing 1000 images\n",
      "Processing 1500 images\n",
      "Processing 2000 images\n",
      "Processing 2500 images\n",
      "Processing 3000 images\n",
      "Processing 3500 images\n",
      "Processing 4000 images\n",
      "Processing 4500 images\n",
      "Processing 5000 images\n"
     ]
    }
   ],
   "source": [
    "#place authentic\n",
    "Au_path = 'forgery/data/Au'\n",
    "prepare_data(Au_path, 1)\n",
    "random.shuffle(X)\n",
    "X = X[:2100]\n",
    "Y = Y[:2100]\n",
    "print(len(X), len(Y))"
   ]
  },
  {
   "cell_type": "code",
   "execution_count": 16,
   "metadata": {},
   "outputs": [
    {
     "name": "stdout",
     "output_type": "stream",
     "text": [
      "Processing 2500 images\n",
      "Processing 3000 images\n",
      "Processing 3500 images\n",
      "Processing 4000 images\n",
      "4164 4164\n"
     ]
    }
   ],
   "source": [
    "#place tampered\n",
    "Tp_path = 'forgery/data/Tp'\n",
    "prepare_data(Tp_path, 0)\n",
    "print(len(X), len(Y))"
   ]
  },
  {
   "cell_type": "code",
   "execution_count": 17,
   "metadata": {},
   "outputs": [],
   "source": [
    "X = np.array(X)\n",
    "Y = to_categorical(Y, 2)\n",
    "X = X.reshape(-1, h, w, 3)\n",
    "\n",
    "x_train, x_val, y_train, y_val = train_test_split(X, Y, test_size = 0.2, random_state=5)\n",
    "\n",
    "X = X.reshape(-1,1,1,1)"
   ]
  },
  {
   "cell_type": "code",
   "execution_count": 18,
   "metadata": {},
   "outputs": [],
   "source": [
    "def truncate_2(x):\n",
    "    neg = ((x + 2) + abs(x + 2)) / 2 - 2\n",
    "    return -(-neg+2 + abs(- neg+2)) / 2 + 2"
   ]
  },
  {
   "cell_type": "code",
   "execution_count": 19,
   "metadata": {},
   "outputs": [],
   "source": [
    "initializer_srm = initializer()"
   ]
  },
  {
   "cell_type": "code",
   "execution_count": 44,
   "metadata": {},
   "outputs": [
    {
     "name": "stdout",
     "output_type": "stream",
     "text": [
      "Model: \"functional_25\"\n",
      "_________________________________________________________________\n",
      "Layer (type)                 Output Shape              Param #   \n",
      "=================================================================\n",
      "input_7 (InputLayer)         [(None, 224, 224, 3)]     0         \n",
      "_________________________________________________________________\n",
      "tf_op_layer_srm-layer_6 (Ten [(None, 224, 224, 3)]     0         \n",
      "_________________________________________________________________\n",
      "conv2d_39 (Conv2D)           (None, 224, 224, 64)      1792      \n",
      "_________________________________________________________________\n",
      "batch_normalization_69 (Batc (None, 224, 224, 64)      256       \n",
      "_________________________________________________________________\n",
      "conv2d_40 (Conv2D)           (None, 224, 224, 64)      36928     \n",
      "_________________________________________________________________\n",
      "batch_normalization_70 (Batc (None, 224, 224, 64)      256       \n",
      "_________________________________________________________________\n",
      "max_pooling2d_23 (MaxPooling (None, 112, 112, 64)      0         \n",
      "_________________________________________________________________\n",
      "batch_normalization_71 (Batc (None, 112, 112, 64)      256       \n",
      "_________________________________________________________________\n",
      "conv2d_41 (Conv2D)           (None, 112, 112, 128)     73856     \n",
      "_________________________________________________________________\n",
      "batch_normalization_72 (Batc (None, 112, 112, 128)     512       \n",
      "_________________________________________________________________\n",
      "conv2d_42 (Conv2D)           (None, 112, 112, 128)     147584    \n",
      "_________________________________________________________________\n",
      "batch_normalization_73 (Batc (None, 112, 112, 128)     512       \n",
      "_________________________________________________________________\n",
      "max_pooling2d_24 (MaxPooling (None, 56, 56, 128)       0         \n",
      "_________________________________________________________________\n",
      "batch_normalization_74 (Batc (None, 56, 56, 128)       512       \n",
      "_________________________________________________________________\n",
      "conv2d_43 (Conv2D)           (None, 56, 56, 256)       295168    \n",
      "_________________________________________________________________\n",
      "batch_normalization_75 (Batc (None, 56, 56, 256)       1024      \n",
      "_________________________________________________________________\n",
      "conv2d_44 (Conv2D)           (None, 56, 56, 256)       590080    \n",
      "_________________________________________________________________\n",
      "batch_normalization_76 (Batc (None, 56, 56, 256)       1024      \n",
      "_________________________________________________________________\n",
      "conv2d_45 (Conv2D)           (None, 56, 56, 256)       590080    \n",
      "_________________________________________________________________\n",
      "batch_normalization_77 (Batc (None, 56, 56, 256)       1024      \n",
      "_________________________________________________________________\n",
      "max_pooling2d_25 (MaxPooling (None, 28, 28, 256)       0         \n",
      "_________________________________________________________________\n",
      "batch_normalization_78 (Batc (None, 28, 28, 256)       1024      \n",
      "_________________________________________________________________\n",
      "conv2d_46 (Conv2D)           (None, 28, 28, 512)       1180160   \n",
      "_________________________________________________________________\n",
      "batch_normalization_79 (Batc (None, 28, 28, 512)       2048      \n",
      "_________________________________________________________________\n",
      "max_pooling2d_26 (MaxPooling (None, 14, 14, 512)       0         \n",
      "_________________________________________________________________\n",
      "batch_normalization_80 (Batc (None, 14, 14, 512)       2048      \n",
      "_________________________________________________________________\n",
      "conv2d_47 (Conv2D)           (None, 14, 14, 512)       2359808   \n",
      "_________________________________________________________________\n",
      "conv2d_48 (Conv2D)           (None, 14, 14, 512)       2359808   \n",
      "_________________________________________________________________\n",
      "conv2d_49 (Conv2D)           (None, 14, 14, 512)       2359808   \n",
      "_________________________________________________________________\n",
      "flatten_6 (Flatten)          (None, 100352)            0         \n",
      "_________________________________________________________________\n",
      "dense_12 (Dense)             (None, 512)               51380736  \n",
      "_________________________________________________________________\n",
      "batch_normalization_81 (Batc (None, 512)               2048      \n",
      "_________________________________________________________________\n",
      "dense_13 (Dense)             (None, 2)                 1026      \n",
      "=================================================================\n",
      "Total params: 61,389,378\n",
      "Trainable params: 61,383,106\n",
      "Non-trainable params: 6,272\n",
      "_________________________________________________________________\n"
     ]
    }
   ],
   "source": [
    "input = Input(shape=(h,w,3))\n",
    "op = tf.nn.conv2d(input, initializer_srm, strides=[1, 1, 1, 1], padding='SAME', name='srm-layer')\n",
    "x = Conv2D(64, 3, activation='relu', padding='same')(op)\n",
    "x = BatchNormalization()(x)\n",
    "x = Conv2D(64, 3, activation='relu', padding='same')(x)\n",
    "x = BatchNormalization()(x)\n",
    "x = MaxPool2D(padding='same')(x)\n",
    "x = BatchNormalization()(x)\n",
    "\n",
    "x = Conv2D(128, 3, activation='relu', padding='same')(x)\n",
    "x = BatchNormalization()(x)\n",
    "x = Conv2D(128, 3, activation='relu', padding='same')(x)\n",
    "x = BatchNormalization()(x)\n",
    "x = MaxPool2D(padding='same')(x)\n",
    "x = BatchNormalization()(x)\n",
    "\n",
    "x = Conv2D(256, 3, activation='relu', padding='same')(x)\n",
    "x = BatchNormalization()(x)\n",
    "x = Conv2D(256, 3, activation='relu', padding='same')(x)\n",
    "x = BatchNormalization()(x)\n",
    "x = Conv2D(256, 3, activation='relu', padding='same')(x)\n",
    "x = BatchNormalization()(x)\n",
    "x = MaxPool2D(padding='same')(x)\n",
    "x = BatchNormalization()(x)\n",
    "\n",
    "x = Conv2D(512, 3, activation='relu', padding='same')(x)\n",
    "x = BatchNormalization()(x)\n",
    "x = Conv2D(512, 3, activation='relu', padding='same')(x)\n",
    "x = BatchNormalization()(x)\n",
    "x = Conv2D(512, 3, activation='relu', padding='same')(x)\n",
    "x = BatchNormalization()(x)\n",
    "x = MaxPool2D(padding='same')(x)\n",
    "x = BatchNormalization()(x)\n",
    "\n",
    "x = Conv2D(512, 3, activation='relu', padding='same')(x)\n",
    "x = Conv2D(512, 3, activation='relu', padding='same')(x)\n",
    "x = Conv2D(512, 3, activation='relu', padding='same')(x)\n",
    "\n",
    "x = Flatten()(x)\n",
    "# x = BatchNormalization()(x)\n",
    "x = Dense(512, activation='relu')(x)\n",
    "x = BatchNormalization()(x)\n",
    "\n",
    "output = Dense(2, activation='softmax')(x)\n",
    "\n",
    "model = tf.keras.Model(inputs=[input], outputs=[output])\n",
    "model.summary()"
   ]
  },
  {
   "cell_type": "code",
   "execution_count": 45,
   "metadata": {},
   "outputs": [],
   "source": [
    "epochs = 30\n",
    "batch_size = 32\n",
    "init_lr = 1e-4\n",
    "optimizer = Adam(lr = init_lr, decay = init_lr/epochs)\n",
    "\n",
    "early_stopping = EarlyStopping(monitor='val_acc', min_delta=0,patience=2, verbose=0, mode='auto')\n",
    "\n",
    "checkpoint_filepath = 'tmp/checkpoint'\n",
    "model_checkpoint_callback = ModelCheckpoint(filepath=checkpoint_filepath, save_weights_only=True, monitor='val_accuracy', mode='max', save_best_only=True)\n",
    "\n",
    "model.compile(optimizer = optimizer, loss = 'binary_crossentropy', metrics=['accuracy'])"
   ]
  },
  {
   "cell_type": "code",
   "execution_count": null,
   "metadata": {},
   "outputs": [
    {
     "name": "stdout",
     "output_type": "stream",
     "text": [
      "Epoch 1/30\n",
      "  2/105 [..............................] - ETA: 19s - loss: 1.0746 - accuracy: 0.6562WARNING:tensorflow:Callbacks method `on_train_batch_end` is slow compared to the batch time (batch time: 0.1158s vs `on_train_batch_end` time: 0.2645s). Check your callbacks.\n"
     ]
    },
    {
     "name": "stderr",
     "output_type": "stream",
     "text": [
      "WARNING:tensorflow:Callbacks method `on_train_batch_end` is slow compared to the batch time (batch time: 0.1158s vs `on_train_batch_end` time: 0.2645s). Check your callbacks.\n"
     ]
    },
    {
     "name": "stdout",
     "output_type": "stream",
     "text": [
      "105/105 [==============================] - ETA: 0s - loss: 0.7348 - accuracy: 0.5965WARNING:tensorflow:Early stopping conditioned on metric `val_acc` which is not available. Available metrics are: loss,accuracy,val_loss,val_accuracy\n"
     ]
    },
    {
     "name": "stderr",
     "output_type": "stream",
     "text": [
      "WARNING:tensorflow:Early stopping conditioned on metric `val_acc` which is not available. Available metrics are: loss,accuracy,val_loss,val_accuracy\n"
     ]
    },
    {
     "name": "stdout",
     "output_type": "stream",
     "text": [
      "105/105 [==============================] - 51s 484ms/step - loss: 0.7348 - accuracy: 0.5965 - val_loss: 0.7011 - val_accuracy: 0.4886\n",
      "Epoch 2/30\n",
      "105/105 [==============================] - ETA: 0s - loss: 0.5682 - accuracy: 0.7229WARNING:tensorflow:Early stopping conditioned on metric `val_acc` which is not available. Available metrics are: loss,accuracy,val_loss,val_accuracy\n"
     ]
    },
    {
     "name": "stderr",
     "output_type": "stream",
     "text": [
      "WARNING:tensorflow:Early stopping conditioned on metric `val_acc` which is not available. Available metrics are: loss,accuracy,val_loss,val_accuracy\n"
     ]
    },
    {
     "name": "stdout",
     "output_type": "stream",
     "text": [
      "105/105 [==============================] - 51s 484ms/step - loss: 0.5682 - accuracy: 0.7229 - val_loss: 0.7664 - val_accuracy: 0.5114\n",
      "Epoch 3/30\n",
      "105/105 [==============================] - ETA: 0s - loss: 0.4338 - accuracy: 0.8187WARNING:tensorflow:Early stopping conditioned on metric `val_acc` which is not available. Available metrics are: loss,accuracy,val_loss,val_accuracy\n"
     ]
    },
    {
     "name": "stderr",
     "output_type": "stream",
     "text": [
      "WARNING:tensorflow:Early stopping conditioned on metric `val_acc` which is not available. Available metrics are: loss,accuracy,val_loss,val_accuracy\n"
     ]
    },
    {
     "name": "stdout",
     "output_type": "stream",
     "text": [
      "105/105 [==============================] - 51s 482ms/step - loss: 0.4338 - accuracy: 0.8187 - val_loss: 0.6889 - val_accuracy: 0.5318\n",
      "Epoch 4/30\n",
      "105/105 [==============================] - ETA: 0s - loss: 0.3987 - accuracy: 0.8547WARNING:tensorflow:Early stopping conditioned on metric `val_acc` which is not available. Available metrics are: loss,accuracy,val_loss,val_accuracy\n"
     ]
    },
    {
     "name": "stderr",
     "output_type": "stream",
     "text": [
      "WARNING:tensorflow:Early stopping conditioned on metric `val_acc` which is not available. Available metrics are: loss,accuracy,val_loss,val_accuracy\n"
     ]
    },
    {
     "name": "stdout",
     "output_type": "stream",
     "text": [
      "105/105 [==============================] - 51s 482ms/step - loss: 0.3987 - accuracy: 0.8547 - val_loss: 0.6788 - val_accuracy: 0.5786\n",
      "Epoch 5/30\n",
      "105/105 [==============================] - ETA: 0s - loss: 0.3257 - accuracy: 0.8901WARNING:tensorflow:Early stopping conditioned on metric `val_acc` which is not available. Available metrics are: loss,accuracy,val_loss,val_accuracy\n"
     ]
    },
    {
     "name": "stderr",
     "output_type": "stream",
     "text": [
      "WARNING:tensorflow:Early stopping conditioned on metric `val_acc` which is not available. Available metrics are: loss,accuracy,val_loss,val_accuracy\n"
     ]
    },
    {
     "name": "stdout",
     "output_type": "stream",
     "text": [
      "105/105 [==============================] - 44s 417ms/step - loss: 0.3257 - accuracy: 0.8901 - val_loss: 0.7782 - val_accuracy: 0.5402\n",
      "Epoch 6/30\n",
      "105/105 [==============================] - ETA: 0s - loss: 0.3138 - accuracy: 0.8997WARNING:tensorflow:Early stopping conditioned on metric `val_acc` which is not available. Available metrics are: loss,accuracy,val_loss,val_accuracy\n"
     ]
    },
    {
     "name": "stderr",
     "output_type": "stream",
     "text": [
      "WARNING:tensorflow:Early stopping conditioned on metric `val_acc` which is not available. Available metrics are: loss,accuracy,val_loss,val_accuracy\n"
     ]
    },
    {
     "name": "stdout",
     "output_type": "stream",
     "text": [
      "105/105 [==============================] - 45s 426ms/step - loss: 0.3138 - accuracy: 0.8997 - val_loss: 1.5357 - val_accuracy: 0.5246\n",
      "Epoch 7/30\n",
      "105/105 [==============================] - ETA: 0s - loss: 0.2798 - accuracy: 0.9114WARNING:tensorflow:Early stopping conditioned on metric `val_acc` which is not available. Available metrics are: loss,accuracy,val_loss,val_accuracy\n"
     ]
    },
    {
     "name": "stderr",
     "output_type": "stream",
     "text": [
      "WARNING:tensorflow:Early stopping conditioned on metric `val_acc` which is not available. Available metrics are: loss,accuracy,val_loss,val_accuracy\n"
     ]
    },
    {
     "name": "stdout",
     "output_type": "stream",
     "text": [
      "105/105 [==============================] - 52s 496ms/step - loss: 0.2798 - accuracy: 0.9114 - val_loss: 0.8100 - val_accuracy: 0.6351\n",
      "Epoch 8/30\n",
      "105/105 [==============================] - ETA: 0s - loss: 0.2240 - accuracy: 0.9307WARNING:tensorflow:Early stopping conditioned on metric `val_acc` which is not available. Available metrics are: loss,accuracy,val_loss,val_accuracy\n"
     ]
    },
    {
     "name": "stderr",
     "output_type": "stream",
     "text": [
      "WARNING:tensorflow:Early stopping conditioned on metric `val_acc` which is not available. Available metrics are: loss,accuracy,val_loss,val_accuracy\n"
     ]
    },
    {
     "name": "stdout",
     "output_type": "stream",
     "text": [
      "105/105 [==============================] - 51s 481ms/step - loss: 0.2240 - accuracy: 0.9307 - val_loss: 0.7548 - val_accuracy: 0.6735\n",
      "Epoch 9/30\n",
      "105/105 [==============================] - ETA: 0s - loss: 0.2019 - accuracy: 0.9469WARNING:tensorflow:Early stopping conditioned on metric `val_acc` which is not available. Available metrics are: loss,accuracy,val_loss,val_accuracy\n"
     ]
    },
    {
     "name": "stderr",
     "output_type": "stream",
     "text": [
      "WARNING:tensorflow:Early stopping conditioned on metric `val_acc` which is not available. Available metrics are: loss,accuracy,val_loss,val_accuracy\n"
     ]
    },
    {
     "name": "stdout",
     "output_type": "stream",
     "text": [
      "105/105 [==============================] - 50s 480ms/step - loss: 0.2019 - accuracy: 0.9469 - val_loss: 0.7863 - val_accuracy: 0.7323\n",
      "Epoch 10/30\n",
      "105/105 [==============================] - ETA: 0s - loss: 0.2518 - accuracy: 0.9243WARNING:tensorflow:Early stopping conditioned on metric `val_acc` which is not available. Available metrics are: loss,accuracy,val_loss,val_accuracy\n"
     ]
    },
    {
     "name": "stderr",
     "output_type": "stream",
     "text": [
      "WARNING:tensorflow:Early stopping conditioned on metric `val_acc` which is not available. Available metrics are: loss,accuracy,val_loss,val_accuracy\n"
     ]
    },
    {
     "name": "stdout",
     "output_type": "stream",
     "text": [
      "105/105 [==============================] - 43s 412ms/step - loss: 0.2518 - accuracy: 0.9243 - val_loss: 1.2361 - val_accuracy: 0.5474\n",
      "Epoch 11/30\n",
      "105/105 [==============================] - ETA: 0s - loss: 0.2285 - accuracy: 0.9358WARNING:tensorflow:Early stopping conditioned on metric `val_acc` which is not available. Available metrics are: loss,accuracy,val_loss,val_accuracy\n"
     ]
    },
    {
     "name": "stderr",
     "output_type": "stream",
     "text": [
      "WARNING:tensorflow:Early stopping conditioned on metric `val_acc` which is not available. Available metrics are: loss,accuracy,val_loss,val_accuracy\n"
     ]
    },
    {
     "name": "stdout",
     "output_type": "stream",
     "text": [
      "105/105 [==============================] - 51s 488ms/step - loss: 0.2285 - accuracy: 0.9358 - val_loss: 0.7336 - val_accuracy: 0.7359\n",
      "Epoch 12/30\n",
      "105/105 [==============================] - ETA: 0s - loss: 0.1655 - accuracy: 0.9583WARNING:tensorflow:Early stopping conditioned on metric `val_acc` which is not available. Available metrics are: loss,accuracy,val_loss,val_accuracy\n"
     ]
    },
    {
     "name": "stderr",
     "output_type": "stream",
     "text": [
      "WARNING:tensorflow:Early stopping conditioned on metric `val_acc` which is not available. Available metrics are: loss,accuracy,val_loss,val_accuracy\n"
     ]
    },
    {
     "name": "stdout",
     "output_type": "stream",
     "text": [
      "105/105 [==============================] - 52s 496ms/step - loss: 0.1655 - accuracy: 0.9583 - val_loss: 0.7407 - val_accuracy: 0.7479\n",
      "Epoch 13/30\n",
      "105/105 [==============================] - ETA: 0s - loss: 0.1570 - accuracy: 0.9637WARNING:tensorflow:Early stopping conditioned on metric `val_acc` which is not available. Available metrics are: loss,accuracy,val_loss,val_accuracy\n"
     ]
    },
    {
     "name": "stderr",
     "output_type": "stream",
     "text": [
      "WARNING:tensorflow:Early stopping conditioned on metric `val_acc` which is not available. Available metrics are: loss,accuracy,val_loss,val_accuracy\n"
     ]
    },
    {
     "name": "stdout",
     "output_type": "stream",
     "text": [
      "105/105 [==============================] - 44s 422ms/step - loss: 0.1570 - accuracy: 0.9637 - val_loss: 1.0733 - val_accuracy: 0.5462\n",
      "Epoch 14/30\n",
      "105/105 [==============================] - ETA: 0s - loss: 0.1423 - accuracy: 0.9706WARNING:tensorflow:Early stopping conditioned on metric `val_acc` which is not available. Available metrics are: loss,accuracy,val_loss,val_accuracy\n"
     ]
    },
    {
     "name": "stderr",
     "output_type": "stream",
     "text": [
      "WARNING:tensorflow:Early stopping conditioned on metric `val_acc` which is not available. Available metrics are: loss,accuracy,val_loss,val_accuracy\n"
     ]
    },
    {
     "name": "stdout",
     "output_type": "stream",
     "text": [
      "105/105 [==============================] - 43s 412ms/step - loss: 0.1423 - accuracy: 0.9706 - val_loss: 0.8023 - val_accuracy: 0.7311\n",
      "Epoch 15/30\n",
      "105/105 [==============================] - ETA: 0s - loss: 0.1569 - accuracy: 0.9673WARNING:tensorflow:Early stopping conditioned on metric `val_acc` which is not available. Available metrics are: loss,accuracy,val_loss,val_accuracy\n"
     ]
    },
    {
     "name": "stderr",
     "output_type": "stream",
     "text": [
      "WARNING:tensorflow:Early stopping conditioned on metric `val_acc` which is not available. Available metrics are: loss,accuracy,val_loss,val_accuracy\n"
     ]
    },
    {
     "name": "stdout",
     "output_type": "stream",
     "text": [
      "105/105 [==============================] - 43s 408ms/step - loss: 0.1569 - accuracy: 0.9673 - val_loss: 1.0380 - val_accuracy: 0.5930\n",
      "Epoch 16/30\n",
      "105/105 [==============================] - ETA: 0s - loss: 0.1174 - accuracy: 0.9751WARNING:tensorflow:Early stopping conditioned on metric `val_acc` which is not available. Available metrics are: loss,accuracy,val_loss,val_accuracy\n"
     ]
    },
    {
     "name": "stderr",
     "output_type": "stream",
     "text": [
      "WARNING:tensorflow:Early stopping conditioned on metric `val_acc` which is not available. Available metrics are: loss,accuracy,val_loss,val_accuracy\n"
     ]
    },
    {
     "name": "stdout",
     "output_type": "stream",
     "text": [
      "105/105 [==============================] - 43s 411ms/step - loss: 0.1174 - accuracy: 0.9751 - val_loss: 1.0987 - val_accuracy: 0.5690\n",
      "Epoch 17/30\n",
      "105/105 [==============================] - ETA: 0s - loss: 0.1267 - accuracy: 0.9757WARNING:tensorflow:Early stopping conditioned on metric `val_acc` which is not available. Available metrics are: loss,accuracy,val_loss,val_accuracy\n"
     ]
    },
    {
     "name": "stderr",
     "output_type": "stream",
     "text": [
      "WARNING:tensorflow:Early stopping conditioned on metric `val_acc` which is not available. Available metrics are: loss,accuracy,val_loss,val_accuracy\n"
     ]
    },
    {
     "name": "stdout",
     "output_type": "stream",
     "text": [
      "105/105 [==============================] - 44s 416ms/step - loss: 0.1267 - accuracy: 0.9757 - val_loss: 0.7338 - val_accuracy: 0.7275\n",
      "Epoch 18/30\n",
      "105/105 [==============================] - ETA: 0s - loss: 0.1117 - accuracy: 0.9787WARNING:tensorflow:Early stopping conditioned on metric `val_acc` which is not available. Available metrics are: loss,accuracy,val_loss,val_accuracy\n"
     ]
    },
    {
     "name": "stderr",
     "output_type": "stream",
     "text": [
      "WARNING:tensorflow:Early stopping conditioned on metric `val_acc` which is not available. Available metrics are: loss,accuracy,val_loss,val_accuracy\n"
     ]
    },
    {
     "name": "stdout",
     "output_type": "stream",
     "text": [
      "105/105 [==============================] - 44s 421ms/step - loss: 0.1117 - accuracy: 0.9787 - val_loss: 1.1160 - val_accuracy: 0.6158\n",
      "Epoch 19/30\n",
      " 34/105 [========>.....................] - ETA: 27s - loss: 0.0731 - accuracy: 0.9881"
     ]
    }
   ],
   "source": [
    "history = model.fit(x_train, y_train, batch_size=batch_size, epochs=epochs, validation_data=(x_val, y_val), callbacks=[early_stopping, model_checkpoint_callback])"
   ]
  },
  {
   "cell_type": "code",
   "execution_count": 23,
   "metadata": {},
   "outputs": [
    {
     "data": {
      "text/plain": [
       "[<matplotlib.lines.Line2D at 0x7f5d1fe10610>]"
      ]
     },
     "execution_count": 23,
     "metadata": {},
     "output_type": "execute_result"
    },
    {
     "data": {
      "image/png": "[encoded data removed]",
      "text/plain": [
       "<Figure size 432x288 with 2 Axes>"
      ]
     },
     "metadata": {
      "needs_background": "light"
     },
     "output_type": "display_data"
    }
   ],
   "source": [
    "# Plot the loss and accuracy curves for training and validation \n",
    "fig, ax = plt.subplots(2,1)\n",
    "ax[0].plot(history.history['loss'], color='b', label=\"Training loss\")\n",
    "ax[0].plot(history.history['val_loss'], color='r', label=\"validation loss\",axes =ax[0])\n",
    "legend = ax[0].legend(loc='best', shadow=True)\n",
    "\n",
    "ax[1].plot(history.history['accuracy'], color='b', label=\"Training accuracy\")\n",
    "ax[1].plot(history.history['val_accuracy'], color='r',label=\"Validation accuracy\")"
   ]
  },
  {
   "cell_type": "code",
   "execution_count": 30,
   "metadata": {},
   "outputs": [],
   "source": [
    "cat = np.array(Image.open('cat.jpg').resize(image_size)).flatten() / 255.0\n",
    "cat = cat.reshape(-1, 224, 224, 3)"
   ]
  },
  {
   "cell_type": "code",
   "execution_count": 31,
   "metadata": {},
   "outputs": [],
   "source": [
    "a = keract.get_activations(model, cat)"
   ]
  },
  {
   "cell_type": "code",
   "execution_count": 32,
   "metadata": {},
   "outputs": [
    {
     "name": "stdout",
     "output_type": "stream",
     "text": [
      "input_1 (1, 224, 224, 3) \n",
      "tf_op_layer_srm-layer (1, 224, 224, 3) \n",
      "conv2d (1, 224, 224, 64) \n",
      "batch_normalization (1, 224, 224, 64) \n",
      "conv2d_1 (1, 224, 224, 64) \n",
      "batch_normalization_1 (1, 224, 224, 64) \n",
      "max_pooling2d (1, 112, 112, 64) \n",
      "batch_normalization_2 (1, 112, 112, 64) \n",
      "conv2d_2 (1, 112, 112, 128) \n",
      "batch_normalization_3 (1, 112, 112, 128) \n",
      "conv2d_3 (1, 112, 112, 128) \n",
      "batch_normalization_4 (1, 112, 112, 128) \n",
      "max_pooling2d_1 (1, 56, 56, 128) \n",
      "batch_normalization_5 (1, 56, 56, 128) \n",
      "conv2d_4 (1, 56, 56, 256) \n",
      "batch_normalization_6 (1, 56, 56, 256) \n",
      "conv2d_5 (1, 56, 56, 256) \n",
      "batch_normalization_7 (1, 56, 56, 256) \n",
      "conv2d_6 (1, 56, 56, 256) \n",
      "batch_normalization_8 (1, 56, 56, 256) \n",
      "max_pooling2d_2 (1, 28, 28, 256) \n",
      "batch_normalization_9 (1, 28, 28, 256) \n",
      "conv2d_7 (1, 28, 28, 512) \n",
      "batch_normalization_10 (1, 28, 28, 512) \n",
      "conv2d_8 (1, 28, 28, 512) \n",
      "batch_normalization_11 (1, 28, 28, 512) \n",
      "conv2d_9 (1, 28, 28, 512) \n",
      "max_pooling2d_3 (1, 14, 14, 512) \n",
      "batch_normalization_12 (1, 14, 14, 512) \n",
      "flatten (1, 100352) \n",
      "batch_normalization_13 (1, 100352) \n",
      "dense (1, 512) \n",
      "batch_normalization_14 (1, 512) \n",
      "dense_1 (1, 2) \n"
     ]
    }
   ],
   "source": [
    "keract.display_activations(a, directory='cat_activations', save=True, fig_size=(100,24))"
   ]
  },
  {
   "cell_type": "code",
   "execution_count": 15,
   "metadata": {},
   "outputs": [
    {
     "data": {
      "text/plain": [
       "<tensorflow.python.training.tracking.util.CheckpointLoadStatus at 0x244d4e94388>"
      ]
     },
     "execution_count": 15,
     "metadata": {},
     "output_type": "execute_result"
    }
   ],
   "source": [
    "model.load_weights(checkpoint_filepath)"
   ]
  },
  {
   "cell_type": "code",
   "execution_count": 3,
   "metadata": {},
   "outputs": [],
   "source": [
    "# def SRM(imgs):\n",
    "#     c=np.zeros((3,5,5))\n",
    "#     c[0]=[[-1,2,-2,2,-1],[2,-6,8,-6,2],[-2,8,-12,8,-2],[2,-6,8,-6,2],[-1,2,-2,2,-1]]\n",
    "#     c[0]=c[0]/12\n",
    "\n",
    "#     c[1][1][1]=-1\n",
    "#     c[1][1][2]=2\n",
    "#     c[1][1][3]=-1\n",
    "#     c[1][2][1]=2\n",
    "#     c[1][2][2]=-4\n",
    "#     c[1][2][3]=2\n",
    "#     c[1][3][1]=-1\n",
    "#     c[1][3][2]=2\n",
    "#     c[1][3][3]=-1\n",
    "#     c[1]=c[1]/4\n",
    "\n",
    "#     c[2][1][2]=1\n",
    "#     c[2][2][2]=-2\n",
    "#     c[2][3][2]=1\n",
    "#     c[2]=c[2]/2   \n",
    "\n",
    "#     Wcnn=np.zeros((5,5,3,3))\n",
    "#     for i in range(3):\n",
    "#         Wcnn[:,:,0,i]=c[i]\n",
    "#         Wcnn[:,:,1,i]=c[i]\n",
    "#         Wcnn[:,:,2,i]=c[i]\n",
    "\n",
    "#     imgs = np.array(imgs, dtype=float)\n",
    "#     input = tf.Variable(imgs, dtype=tf.float32)\n",
    "\n",
    "#     conv = tf.nn.conv2d(input, Wcnn, [1, 1, 1, 1], padding='SAME',name='srm')\n",
    "#     res = np.array(conv, dtype=float)\n",
    "#     return res"
   ]
  }
 ],
 "metadata": {
  "instance_type": "ml.g4dn.2xlarge",
  "kernelspec": {
   "display_name": "Python 3 (TensorFlow 2.3 Python 3.7 GPU Optimized)",
   "language": "python",
   "name": "python3__SAGEMAKER_INTERNAL__arn:aws:sagemaker:us-east-2:429704687514:image/tensorflow-2.3-gpu-py37-cu110-ubuntu18.04-v3"
  },
  "language_info": {
   "codemirror_mode": {
    "name": "ipython",
    "version": 3
   },
   "file_extension": ".py",
   "mimetype": "text/x-python",
   "name": "python",
   "nbconvert_exporter": "python",
   "pygments_lexer": "ipython3",
   "version": "3.7.10"
  },
  "metadata": {
   "interpreter": {
    "hash": "31aaf77f4ef1b20c95cd356702cf001ae279ac9168f3d41b4fe8c593a8672def"
   }
  }
 },
 "nbformat": 4,
 "nbformat_minor": 4
}
