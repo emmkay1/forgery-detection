{
 "cells": [
  {
   "cell_type": "code",
   "execution_count": null,
   "metadata": {},
   "outputs": [],
   "source": [
    "import tensorflow as tf\n",
    "import numpy as np\n",
    "import matplotlib.pyplot as plt\n",
    "%matplotlib inline\n",
    "np.random.seed(2)\n",
    "from sklearn.model_selection import train_test_split\n",
    "from sklearn.metrics import confusion_matrix\n",
    "from tensorflow.keras.utils import to_categorical\n",
    "from tensorflow.keras.models import Sequential\n",
    "from tensorflow.keras.layers import Dense, Flatten, Conv2D, MaxPool2D, Dropout\n",
    "from tensorflow.keras.optimizers import Adam\n",
    "from tensorflow.keras.preprocessing.image import ImageDataGenerator\n",
    "from tensorflow.keras.callbacks import EarlyStopping\n",
    "from tensorflow.keras.layers import Input\n",
    "from PIL import Image, ImageChops, ImageEnhance\n",
    "import os\n",
    "import itertools\n",
    "import random\n",
    "import tf_slim as slim"
   ]
  },
  {
   "cell_type": "code",
   "execution_count": null,
   "metadata": {},
   "outputs": [],
   "source": [
    "def SRM(imgs):\n",
    "    c=np.zeros((3,5,5))\n",
    "    c[0]=[[-1,2,-2,2,-1],[2,-6,8,-6,2],[-2,8,-12,8,-2],[2,-6,8,-6,2],[-1,2,-2,2,-1]]\n",
    "    c[0]=c[0]/12\n",
    "\n",
    "    c[1][1][1]=-1\n",
    "    c[1][1][2]=2\n",
    "    c[1][1][3]=-1\n",
    "    c[1][2][1]=2\n",
    "    c[1][2][2]=-4\n",
    "    c[1][2][3]=2\n",
    "    c[1][3][1]=-1\n",
    "    c[1][3][2]=2\n",
    "    c[1][3][3]=-1\n",
    "    c[1]=c[1]/4\n",
    "\n",
    "    c[2][1][2]=1\n",
    "    c[2][2][2]=-2\n",
    "    c[2][3][2]=1\n",
    "    c[2]=c[2]/2   \n",
    "\n",
    "    Wcnn=np.zeros((5,5,3,3))\n",
    "    for i in range(3):\n",
    "        Wcnn[:,:,0,i]=c[i]\n",
    "        Wcnn[:,:,1,i]=c[i]\n",
    "        Wcnn[:,:,2,i]=c[i]\n",
    "\n",
    "    imgs = np.array(imgs, dtype=float)\n",
    "    input = tf.Variable(imgs, dtype=tf.float32)\n",
    "\n",
    "    conv = tf.nn.conv2d(input, Wcnn, [1, 1, 1, 1], padding='SAME',name='srm')\n",
    "    res = np.array(conv, dtype=float)\n",
    "    return res"
   ]
  },
  {
   "cell_type": "code",
   "execution_count": null,
   "metadata": {},
   "outputs": [],
   "source": [
    "h = 224\n",
    "w = 224\n",
    "image_size = (h, w)\n",
    "\n",
    "def prepare_image(image_path):\n",
    "    img = Image.open(image_path)\n",
    "    img = img.resize(image_size)\n",
    "    img = np.asarray(img) / 255.0\n",
    "    return SRM([img])"
   ]
  },
  {
   "cell_type": "code",
   "execution_count": null,
   "metadata": {},
   "outputs": [],
   "source": [
    "def prepare_data(path, cls):\n",
    "    for dirname, _, filenames in os.walk(path):\n",
    "        for filename in filenames:\n",
    "            if filename.endswith('jpg') or filename.endswith('png'):\n",
    "                try:\n",
    "                    full_path = os.path.join(dirname, filename)\n",
    "                    X.append(prepare_image(full_path))\n",
    "                    Y.append(cls)\n",
    "                except:\n",
    "                    print('Image unable to open. Moving on!')\n",
    "                if len(Y) % 500 == 0:\n",
    "                    print('Processing {} images'.format(len(Y)))"
   ]
  },
  {
   "cell_type": "code",
   "execution_count": null,
   "metadata": {},
   "outputs": [],
   "source": [
    "Au_path = '../CASIA/CASIA2/Au/'\n",
    "prepare_data(Au_path, 1)\n",
    "random.shuffle(X)\n",
    "X = X[:2100]\n",
    "Y = Y[:2100]\n",
    "print(len(X), len(Y))"
   ]
  },
  {
   "cell_type": "code",
   "execution_count": null,
   "metadata": {},
   "outputs": [],
   "source": [
    "def PlotImage(image):\n",
    "    \"\"\"\n",
    "\tPlotImage: Give a normalized image matrix which can be used with implot, etc.\n",
    "\tMaps to [0, 1]\n",
    "\t\"\"\"\n",
    "    im = image.astype(float)\n",
    "    return (im - np.min(im)) / (np.max(im) - np.min(im))\n"
   ]
  },
  {
   "cell_type": "code",
   "execution_count": null,
   "metadata": {},
   "outputs": [],
   "source": [
    "def SRM(imgs):\n",
    "    filter1 = [[0, 0, 0, 0, 0],\n",
    "               [0, -1, 2, -1, 0],\n",
    "               [0, 2, -4, 2, 0],\n",
    "               [0, -1, 2, -1, 0],\n",
    "               [0, 0, 0, 0, 0]]\n",
    "    filter2 = [[-1, 2, -2, 2, -1],\n",
    "               [2, -6, 8, -6, 2],\n",
    "               [-2, 8, -12, 8, -2],\n",
    "               [2, -6, 8, -6, 2],\n",
    "               [-1, 2, -2, 2, -1]]\n",
    "    filter3 = [[0, 0, 0, 0, 0],\n",
    "               [0, 0, 0, 0, 0],\n",
    "               [0, 1, -2, 1, 0],\n",
    "               [0, 0, 0, 0, 0],\n",
    "               [0, 0, 0, 0, 0]]\n",
    "    q = [4.0, 12.0, 2.0]\n",
    "    filter1 = np.asarray(filter1, dtype=float) / 4\n",
    "    filter2 = np.asarray(filter2, dtype=float) / 12\n",
    "    filter3 = np.asarray(filter3, dtype=float) / 2\n",
    "    filters = [[filter1, filter1, filter1], [filter2, filter2, filter2], [filter3, filter3, filter3]]\n",
    "    filters = np.einsum('klij->ijlk', filters)\n",
    "    filters = tf.Variable(filters, dtype=tf.float32)\n",
    "    imgs = np.array(imgs, dtype=float)\n",
    "    input = tf.Variable(imgs, dtype=tf.float32)\n",
    "    op = tf.nn.conv2d(input, filters, strides=[1, 1, 1, 1], padding='SAME')\n",
    "\n",
    "    q = [4.0, 12.0, 2.0]\n",
    "    filter1 = [[0, 0, 0, 0, 0],\n",
    "            [0, -1, 2, -1, 0],\n",
    "            [0, 2, -4, 2, 0],\n",
    "            [0, -1, 2, -1, 0],\n",
    "            [0, 0, 0, 0, 0]]\n",
    "    filter2 = [[-1, 2, -2, 2, -1],\n",
    "            [2, -6, 8, -6, 2],\n",
    "            [-2, 8, -12, 8, -2],\n",
    "            [2, -6, 8, -6, 2],\n",
    "            [-1, 2, -2, 2, -1]]\n",
    "    filter3 = [[0, 0, 0, 0, 0],\n",
    "            [0, 0, 0, 0, 0],\n",
    "            [0, 1, -2, 1, 0],\n",
    "            [0, 0, 0, 0, 0],\n",
    "            [0, 0, 0, 0, 0]]\n",
    "    filter1 = np.asarray(filter1, dtype=float) / q[0]\n",
    "    filter2 = np.asarray(filter2, dtype=float) / q[1]\n",
    "    filter3 = np.asarray(filter3, dtype=float) / q[2]\n",
    "    filters = [[filter1, filter1, filter1], [filter2, filter2, filter2], [filter3, filter3, filter3]]\n",
    "    filters = np.einsum('klij->ijlk', filters)\n",
    "    filters = filters.flatten()\n",
    "    imgs = np.array(imgs, dtype=float)\n",
    "    input = tf.Variable(imgs, dtype=tf.float32)\n",
    "    initializer_srm = tf.constant_initializer(filters)\n",
    "    def truncate_2(x):\n",
    "        neg = ((x + 2) + abs(x + 2)) / 2 - 2\n",
    "        return -(-neg+2 + abs(- neg+2)) / 2 + 2\n",
    "    op2 = slim.conv2d(input, 3, [5, 5], trainable=False, weights_initializer=initializer_srm, activation_fn=None, padding='SAME', stride=1, scope='srm')\n",
    "    op2 = truncate_2(op2)\n",
    "\n",
    "    res = np.round(op[0])\n",
    "    res[res > 2] = 2\n",
    "    res[res < -2] = -2\n",
    "\n",
    "    ress = np.array([res], dtype=float)\n",
    "    ress2 = np.array(op2, dtype=float)\n",
    "    return ress2, ress"
   ]
  },
  {
   "cell_type": "code",
   "execution_count": null,
   "metadata": {},
   "outputs": [],
   "source": [
    "img = Image.open('Tp_D_NNN_M_N_pla10121_cha00027_11669.jpg')\n",
    "# img = img.resize((224, 224))\n",
    "img = np.asarray(img)\n",
    "img, img2 = SRM([img])\n",
    "plt.imshow(img[0])\n",
    "plt.show()\n",
    "\n",
    "plt.imshow(PlotImage(img2[0]))\n",
    "plt.show()"
   ]
  },
  {
   "cell_type": "code",
   "execution_count": null,
   "metadata": {},
   "outputs": [],
   "source": [
    "img"
   ]
  },
  {
   "cell_type": "code",
   "execution_count": null,
   "metadata": {},
   "outputs": [],
   "source": []
  }
 ],
 "metadata": {
  "instance_type": "ml.t3.medium",
  "kernelspec": {
   "display_name": "Python 3 (Data Science)",
   "language": "python",
   "name": "python3__SAGEMAKER_INTERNAL__arn:aws:sagemaker:us-east-2:429704687514:image/datascience-1.0"
  },
  "language_info": {
   "codemirror_mode": {
    "name": "ipython",
    "version": 3
   },
   "file_extension": ".py",
   "mimetype": "text/x-python",
   "name": "python",
   "nbconvert_exporter": "python",
   "pygments_lexer": "ipython3",
   "version": "3.7.10"
  },
  "metadata": {
   "interpreter": {
    "hash": "31aaf77f4ef1b20c95cd356702cf001ae279ac9168f3d41b4fe8c593a8672def"
   }
  }
 },
 "nbformat": 4,
 "nbformat_minor": 4
}
